{
 "cells": [
  {
   "cell_type": "code",
   "execution_count": 1,
   "id": "409fb2c1",
   "metadata": {},
   "outputs": [],
   "source": [
    "import os\n",
    "import numpy as np\n",
    "import pandas as pd\n",
    "import matplotlib.pyplot as plt\n",
    "%matplotlib inline  \n",
    "import seaborn as sns\n",
    "sns.set()  \n",
    "\n",
    "import warnings\n",
    "warnings.filterwarnings(\"ignore\")"
   ]
  },
  {
   "cell_type": "code",
   "execution_count": 2,
   "id": "623d85a9",
   "metadata": {},
   "outputs": [],
   "source": [
    "df_train=pd.read_csv('Train_Dataset.csv')\n",
    "df_test=pd.read_csv('Test_Dataset.csv')"
   ]
  },
  {
   "cell_type": "code",
   "execution_count": 3,
   "id": "9ec3e463",
   "metadata": {},
   "outputs": [
    {
     "data": {
      "text/html": [
       "<div>\n",
       "<style scoped>\n",
       "    .dataframe tbody tr th:only-of-type {\n",
       "        vertical-align: middle;\n",
       "    }\n",
       "\n",
       "    .dataframe tbody tr th {\n",
       "        vertical-align: top;\n",
       "    }\n",
       "\n",
       "    .dataframe thead th {\n",
       "        text-align: right;\n",
       "    }\n",
       "</style>\n",
       "<table border=\"1\" class=\"dataframe\">\n",
       "  <thead>\n",
       "    <tr style=\"text-align: right;\">\n",
       "      <th></th>\n",
       "      <th>EmployeeID</th>\n",
       "      <th>Attrition</th>\n",
       "      <th>Age</th>\n",
       "      <th>TravelProfile</th>\n",
       "      <th>Department</th>\n",
       "      <th>HomeToWork</th>\n",
       "      <th>EducationField</th>\n",
       "      <th>Gender</th>\n",
       "      <th>HourlnWeek</th>\n",
       "      <th>Involvement</th>\n",
       "      <th>...</th>\n",
       "      <th>JobSatisfaction</th>\n",
       "      <th>ESOPs</th>\n",
       "      <th>NumCompaniesWorked</th>\n",
       "      <th>OverTime</th>\n",
       "      <th>SalaryHikelastYear</th>\n",
       "      <th>WorkExperience</th>\n",
       "      <th>LastPromotion</th>\n",
       "      <th>CurrentProfile</th>\n",
       "      <th>MaritalStatus</th>\n",
       "      <th>MonthlyIncome</th>\n",
       "    </tr>\n",
       "  </thead>\n",
       "  <tbody>\n",
       "    <tr>\n",
       "      <th>0</th>\n",
       "      <td>5110001.0</td>\n",
       "      <td>0.0</td>\n",
       "      <td>35.0</td>\n",
       "      <td>Rarely</td>\n",
       "      <td>Analytics</td>\n",
       "      <td>5.0</td>\n",
       "      <td>CA</td>\n",
       "      <td>Male</td>\n",
       "      <td>69.0</td>\n",
       "      <td>1.0</td>\n",
       "      <td>...</td>\n",
       "      <td>1.0</td>\n",
       "      <td>1.0</td>\n",
       "      <td>1.0</td>\n",
       "      <td>1.0</td>\n",
       "      <td>20.0</td>\n",
       "      <td>7.0</td>\n",
       "      <td>2.0</td>\n",
       "      <td>NaN</td>\n",
       "      <td>M</td>\n",
       "      <td>18932.0</td>\n",
       "    </tr>\n",
       "    <tr>\n",
       "      <th>1</th>\n",
       "      <td>5110002.0</td>\n",
       "      <td>1.0</td>\n",
       "      <td>32.0</td>\n",
       "      <td>Yes</td>\n",
       "      <td>Sales</td>\n",
       "      <td>5.0</td>\n",
       "      <td>Statistics</td>\n",
       "      <td>Female</td>\n",
       "      <td>62.0</td>\n",
       "      <td>4.0</td>\n",
       "      <td>...</td>\n",
       "      <td>2.0</td>\n",
       "      <td>0.0</td>\n",
       "      <td>8.0</td>\n",
       "      <td>0.0</td>\n",
       "      <td>20.0</td>\n",
       "      <td>4.0</td>\n",
       "      <td>1.0</td>\n",
       "      <td>NaN</td>\n",
       "      <td>Single</td>\n",
       "      <td>18785.0</td>\n",
       "    </tr>\n",
       "    <tr>\n",
       "      <th>2</th>\n",
       "      <td>5110003.0</td>\n",
       "      <td>0.0</td>\n",
       "      <td>31.0</td>\n",
       "      <td>Rarely</td>\n",
       "      <td>Analytics</td>\n",
       "      <td>5.0</td>\n",
       "      <td>Statistics</td>\n",
       "      <td>F</td>\n",
       "      <td>45.0</td>\n",
       "      <td>5.0</td>\n",
       "      <td>...</td>\n",
       "      <td>2.0</td>\n",
       "      <td>1.0</td>\n",
       "      <td>3.0</td>\n",
       "      <td>0.0</td>\n",
       "      <td>26.0</td>\n",
       "      <td>12.0</td>\n",
       "      <td>1.0</td>\n",
       "      <td>3.0</td>\n",
       "      <td>Single</td>\n",
       "      <td>22091.0</td>\n",
       "    </tr>\n",
       "    <tr>\n",
       "      <th>3</th>\n",
       "      <td>5110004.0</td>\n",
       "      <td>0.0</td>\n",
       "      <td>34.0</td>\n",
       "      <td>Yes</td>\n",
       "      <td>Sales</td>\n",
       "      <td>10.0</td>\n",
       "      <td>Statistics</td>\n",
       "      <td>Female</td>\n",
       "      <td>32.0</td>\n",
       "      <td>3.0</td>\n",
       "      <td>...</td>\n",
       "      <td>4.0</td>\n",
       "      <td>1.0</td>\n",
       "      <td>1.0</td>\n",
       "      <td>0.0</td>\n",
       "      <td>23.0</td>\n",
       "      <td>5.0</td>\n",
       "      <td>1.0</td>\n",
       "      <td>3.0</td>\n",
       "      <td>Divorsed</td>\n",
       "      <td>20302.0</td>\n",
       "    </tr>\n",
       "    <tr>\n",
       "      <th>4</th>\n",
       "      <td>5110005.0</td>\n",
       "      <td>0.0</td>\n",
       "      <td>37.0</td>\n",
       "      <td>No</td>\n",
       "      <td>Analytics</td>\n",
       "      <td>27.0</td>\n",
       "      <td>Statistics</td>\n",
       "      <td>Female</td>\n",
       "      <td>49.0</td>\n",
       "      <td>3.0</td>\n",
       "      <td>...</td>\n",
       "      <td>4.0</td>\n",
       "      <td>1.0</td>\n",
       "      <td>8.0</td>\n",
       "      <td>0.0</td>\n",
       "      <td>21.0</td>\n",
       "      <td>12.0</td>\n",
       "      <td>1.0</td>\n",
       "      <td>9.0</td>\n",
       "      <td>Divorsed</td>\n",
       "      <td>21674.0</td>\n",
       "    </tr>\n",
       "  </tbody>\n",
       "</table>\n",
       "<p>5 rows × 22 columns</p>\n",
       "</div>"
      ],
      "text/plain": [
       "   EmployeeID  Attrition   Age TravelProfile Department  HomeToWork  \\\n",
       "0   5110001.0        0.0  35.0        Rarely  Analytics         5.0   \n",
       "1   5110002.0        1.0  32.0           Yes      Sales         5.0   \n",
       "2   5110003.0        0.0  31.0        Rarely  Analytics         5.0   \n",
       "3   5110004.0        0.0  34.0           Yes      Sales        10.0   \n",
       "4   5110005.0        0.0  37.0            No  Analytics        27.0   \n",
       "\n",
       "  EducationField  Gender  HourlnWeek  Involvement  ...  JobSatisfaction ESOPs  \\\n",
       "0             CA    Male        69.0          1.0  ...              1.0   1.0   \n",
       "1     Statistics  Female        62.0          4.0  ...              2.0   0.0   \n",
       "2     Statistics       F        45.0          5.0  ...              2.0   1.0   \n",
       "3     Statistics  Female        32.0          3.0  ...              4.0   1.0   \n",
       "4     Statistics  Female        49.0          3.0  ...              4.0   1.0   \n",
       "\n",
       "   NumCompaniesWorked  OverTime  SalaryHikelastYear  WorkExperience  \\\n",
       "0                 1.0       1.0                20.0             7.0   \n",
       "1                 8.0       0.0                20.0             4.0   \n",
       "2                 3.0       0.0                26.0            12.0   \n",
       "3                 1.0       0.0                23.0             5.0   \n",
       "4                 8.0       0.0                21.0            12.0   \n",
       "\n",
       "   LastPromotion  CurrentProfile  MaritalStatus  MonthlyIncome  \n",
       "0            2.0             NaN              M        18932.0  \n",
       "1            1.0             NaN         Single        18785.0  \n",
       "2            1.0             3.0         Single        22091.0  \n",
       "3            1.0             3.0       Divorsed        20302.0  \n",
       "4            1.0             9.0       Divorsed        21674.0  \n",
       "\n",
       "[5 rows x 22 columns]"
      ]
     },
     "execution_count": 3,
     "metadata": {},
     "output_type": "execute_result"
    }
   ],
   "source": [
    "df_train.head()"
   ]
  },
  {
   "cell_type": "code",
   "execution_count": 4,
   "id": "e2cf06b9",
   "metadata": {},
   "outputs": [
    {
     "data": {
      "text/html": [
       "<div>\n",
       "<style scoped>\n",
       "    .dataframe tbody tr th:only-of-type {\n",
       "        vertical-align: middle;\n",
       "    }\n",
       "\n",
       "    .dataframe tbody tr th {\n",
       "        vertical-align: top;\n",
       "    }\n",
       "\n",
       "    .dataframe thead th {\n",
       "        text-align: right;\n",
       "    }\n",
       "</style>\n",
       "<table border=\"1\" class=\"dataframe\">\n",
       "  <thead>\n",
       "    <tr style=\"text-align: right;\">\n",
       "      <th></th>\n",
       "      <th>EmployeeID</th>\n",
       "      <th>Age</th>\n",
       "      <th>TravelProfile</th>\n",
       "      <th>Department</th>\n",
       "      <th>HomeToWork</th>\n",
       "      <th>EducationField</th>\n",
       "      <th>Gender</th>\n",
       "      <th>HourlnWeek</th>\n",
       "      <th>Involvement</th>\n",
       "      <th>WorkLifeBalance</th>\n",
       "      <th>...</th>\n",
       "      <th>JobSatisfaction</th>\n",
       "      <th>ESOPs</th>\n",
       "      <th>NumCompaniesWorked</th>\n",
       "      <th>OverTime</th>\n",
       "      <th>SalaryHikelastYear</th>\n",
       "      <th>WorkExperience</th>\n",
       "      <th>LastPromotion</th>\n",
       "      <th>CurrentProfile</th>\n",
       "      <th>MaritalStatus</th>\n",
       "      <th>MonthlyIncome</th>\n",
       "    </tr>\n",
       "  </thead>\n",
       "  <tbody>\n",
       "    <tr>\n",
       "      <th>0</th>\n",
       "      <td>6110001</td>\n",
       "      <td>18.0</td>\n",
       "      <td>No</td>\n",
       "      <td>NaN</td>\n",
       "      <td>9.0</td>\n",
       "      <td>CA</td>\n",
       "      <td>Male</td>\n",
       "      <td>80.0</td>\n",
       "      <td>3</td>\n",
       "      <td>2</td>\n",
       "      <td>...</td>\n",
       "      <td>3</td>\n",
       "      <td>1</td>\n",
       "      <td>1</td>\n",
       "      <td>0</td>\n",
       "      <td>17.0</td>\n",
       "      <td>0.0</td>\n",
       "      <td>0.0</td>\n",
       "      <td>0.0</td>\n",
       "      <td>Single</td>\n",
       "      <td>16904.0</td>\n",
       "    </tr>\n",
       "    <tr>\n",
       "      <th>1</th>\n",
       "      <td>6110002</td>\n",
       "      <td>20.0</td>\n",
       "      <td>Rarely</td>\n",
       "      <td>Analytics</td>\n",
       "      <td>28.0</td>\n",
       "      <td>Statistics</td>\n",
       "      <td>Female</td>\n",
       "      <td>59.0</td>\n",
       "      <td>1</td>\n",
       "      <td>3</td>\n",
       "      <td>...</td>\n",
       "      <td>1</td>\n",
       "      <td>1</td>\n",
       "      <td>2</td>\n",
       "      <td>1</td>\n",
       "      <td>18.0</td>\n",
       "      <td>2.0</td>\n",
       "      <td>1.0</td>\n",
       "      <td>NaN</td>\n",
       "      <td>Single</td>\n",
       "      <td>18994.0</td>\n",
       "    </tr>\n",
       "    <tr>\n",
       "      <th>2</th>\n",
       "      <td>6110003</td>\n",
       "      <td>50.0</td>\n",
       "      <td>Rarely</td>\n",
       "      <td>Analytics</td>\n",
       "      <td>19.0</td>\n",
       "      <td>CA</td>\n",
       "      <td>Female</td>\n",
       "      <td>76.0</td>\n",
       "      <td>3</td>\n",
       "      <td>3</td>\n",
       "      <td>...</td>\n",
       "      <td>5</td>\n",
       "      <td>0</td>\n",
       "      <td>5</td>\n",
       "      <td>1</td>\n",
       "      <td>22.0</td>\n",
       "      <td>18.0</td>\n",
       "      <td>3.0</td>\n",
       "      <td>3.0</td>\n",
       "      <td>M</td>\n",
       "      <td>18587.0</td>\n",
       "    </tr>\n",
       "    <tr>\n",
       "      <th>3</th>\n",
       "      <td>6110004</td>\n",
       "      <td>32.0</td>\n",
       "      <td>Rarely</td>\n",
       "      <td>Sales</td>\n",
       "      <td>23.0</td>\n",
       "      <td>Statistics</td>\n",
       "      <td>Female</td>\n",
       "      <td>73.0</td>\n",
       "      <td>5</td>\n",
       "      <td>2</td>\n",
       "      <td>...</td>\n",
       "      <td>3</td>\n",
       "      <td>0</td>\n",
       "      <td>4</td>\n",
       "      <td>1</td>\n",
       "      <td>17.0</td>\n",
       "      <td>5.0</td>\n",
       "      <td>3.0</td>\n",
       "      <td>3.0</td>\n",
       "      <td>Married</td>\n",
       "      <td>20559.0</td>\n",
       "    </tr>\n",
       "    <tr>\n",
       "      <th>4</th>\n",
       "      <td>6110005</td>\n",
       "      <td>39.0</td>\n",
       "      <td>Rarely</td>\n",
       "      <td>Analytics</td>\n",
       "      <td>7.0</td>\n",
       "      <td>CA</td>\n",
       "      <td>Male</td>\n",
       "      <td>42.0</td>\n",
       "      <td>4</td>\n",
       "      <td>1</td>\n",
       "      <td>...</td>\n",
       "      <td>5</td>\n",
       "      <td>1</td>\n",
       "      <td>4</td>\n",
       "      <td>0</td>\n",
       "      <td>20.0</td>\n",
       "      <td>9.0</td>\n",
       "      <td>1.0</td>\n",
       "      <td>7.0</td>\n",
       "      <td>Married</td>\n",
       "      <td>24991.0</td>\n",
       "    </tr>\n",
       "  </tbody>\n",
       "</table>\n",
       "<p>5 rows × 21 columns</p>\n",
       "</div>"
      ],
      "text/plain": [
       "   EmployeeID   Age TravelProfile Department  HomeToWork EducationField  \\\n",
       "0     6110001  18.0            No        NaN         9.0             CA   \n",
       "1     6110002  20.0        Rarely  Analytics        28.0     Statistics   \n",
       "2     6110003  50.0        Rarely  Analytics        19.0             CA   \n",
       "3     6110004  32.0        Rarely      Sales        23.0     Statistics   \n",
       "4     6110005  39.0        Rarely  Analytics         7.0             CA   \n",
       "\n",
       "   Gender  HourlnWeek  Involvement  WorkLifeBalance  ... JobSatisfaction  \\\n",
       "0    Male        80.0            3                2  ...               3   \n",
       "1  Female        59.0            1                3  ...               1   \n",
       "2  Female        76.0            3                3  ...               5   \n",
       "3  Female        73.0            5                2  ...               3   \n",
       "4    Male        42.0            4                1  ...               5   \n",
       "\n",
       "   ESOPs  NumCompaniesWorked  OverTime  SalaryHikelastYear  WorkExperience  \\\n",
       "0      1                   1         0                17.0             0.0   \n",
       "1      1                   2         1                18.0             2.0   \n",
       "2      0                   5         1                22.0            18.0   \n",
       "3      0                   4         1                17.0             5.0   \n",
       "4      1                   4         0                20.0             9.0   \n",
       "\n",
       "   LastPromotion  CurrentProfile  MaritalStatus MonthlyIncome  \n",
       "0            0.0             0.0         Single       16904.0  \n",
       "1            1.0             NaN         Single       18994.0  \n",
       "2            3.0             3.0              M       18587.0  \n",
       "3            3.0             3.0        Married       20559.0  \n",
       "4            1.0             7.0        Married       24991.0  \n",
       "\n",
       "[5 rows x 21 columns]"
      ]
     },
     "execution_count": 4,
     "metadata": {},
     "output_type": "execute_result"
    }
   ],
   "source": [
    "df_test.head()"
   ]
  },
  {
   "cell_type": "code",
   "execution_count": 5,
   "id": "c4d0c342",
   "metadata": {},
   "outputs": [
    {
     "name": "stdout",
     "output_type": "stream",
     "text": [
      "<class 'pandas.core.frame.DataFrame'>\n",
      "RangeIndex: 7810 entries, 0 to 7809\n",
      "Data columns (total 22 columns):\n",
      " #   Column              Non-Null Count  Dtype  \n",
      "---  ------              --------------  -----  \n",
      " 0   EmployeeID          5180 non-null   float64\n",
      " 1   Attrition           5180 non-null   float64\n",
      " 2   Age                 4864 non-null   float64\n",
      " 3   TravelProfile       5180 non-null   object \n",
      " 4   Department          5056 non-null   object \n",
      " 5   HomeToWork          4925 non-null   float64\n",
      " 6   EducationField      5180 non-null   object \n",
      " 7   Gender              5134 non-null   object \n",
      " 8   HourlnWeek          4893 non-null   float64\n",
      " 9   Involvement         5180 non-null   float64\n",
      " 10  WorkLifeBalance     5180 non-null   float64\n",
      " 11  Designation         5142 non-null   object \n",
      " 12  JobSatisfaction     5180 non-null   float64\n",
      " 13  ESOPs               5180 non-null   float64\n",
      " 14  NumCompaniesWorked  5180 non-null   float64\n",
      " 15  OverTime            5180 non-null   float64\n",
      " 16  SalaryHikelastYear  5011 non-null   float64\n",
      " 17  WorkExperience      4993 non-null   float64\n",
      " 18  LastPromotion       5110 non-null   float64\n",
      " 19  CurrentProfile      4869 non-null   float64\n",
      " 20  MaritalStatus       5180 non-null   object \n",
      " 21  MonthlyIncome       5087 non-null   float64\n",
      "dtypes: float64(16), object(6)\n",
      "memory usage: 1.3+ MB\n"
     ]
    }
   ],
   "source": [
    "df_train.info()"
   ]
  },
  {
   "cell_type": "code",
   "execution_count": 6,
   "id": "b7bb605e",
   "metadata": {},
   "outputs": [
    {
     "name": "stdout",
     "output_type": "stream",
     "text": [
      "<class 'pandas.core.frame.DataFrame'>\n",
      "RangeIndex: 2630 entries, 0 to 2629\n",
      "Data columns (total 21 columns):\n",
      " #   Column              Non-Null Count  Dtype  \n",
      "---  ------              --------------  -----  \n",
      " 0   EmployeeID          2630 non-null   int64  \n",
      " 1   Age                 2488 non-null   float64\n",
      " 2   TravelProfile       2630 non-null   object \n",
      " 3   Department          2572 non-null   object \n",
      " 4   HomeToWork          2504 non-null   float64\n",
      " 5   EducationField      2630 non-null   object \n",
      " 6   Gender              2600 non-null   object \n",
      " 7   HourlnWeek          2494 non-null   float64\n",
      " 8   Involvement         2630 non-null   int64  \n",
      " 9   WorkLifeBalance     2630 non-null   int64  \n",
      " 10  Designation         2600 non-null   object \n",
      " 11  JobSatisfaction     2630 non-null   int64  \n",
      " 12  ESOPs               2630 non-null   int64  \n",
      " 13  NumCompaniesWorked  2630 non-null   int64  \n",
      " 14  OverTime            2630 non-null   int64  \n",
      " 15  SalaryHikelastYear  2536 non-null   float64\n",
      " 16  WorkExperience      2508 non-null   float64\n",
      " 17  LastPromotion       2573 non-null   float64\n",
      " 18  CurrentProfile      2496 non-null   float64\n",
      " 19  MaritalStatus       2630 non-null   object \n",
      " 20  MonthlyIncome       2597 non-null   float64\n",
      "dtypes: float64(8), int64(7), object(6)\n",
      "memory usage: 431.6+ KB\n"
     ]
    }
   ],
   "source": [
    "df_test.info()"
   ]
  },
  {
   "cell_type": "code",
   "execution_count": 7,
   "id": "07b65f11",
   "metadata": {},
   "outputs": [],
   "source": [
    "df_train = df_train.drop_duplicates(keep='first')"
   ]
  },
  {
   "cell_type": "code",
   "execution_count": 8,
   "id": "ddc85667",
   "metadata": {},
   "outputs": [],
   "source": [
    "df_train=df_train.drop(['EmployeeID'],axis=1)"
   ]
  },
  {
   "cell_type": "code",
   "execution_count": 9,
   "id": "746b1417",
   "metadata": {},
   "outputs": [],
   "source": [
    "df_test=df_test.drop(['EmployeeID'],axis=1)"
   ]
  },
  {
   "cell_type": "code",
   "execution_count": 10,
   "id": "beb40aa8",
   "metadata": {},
   "outputs": [
    {
     "data": {
      "text/html": [
       "<div>\n",
       "<style scoped>\n",
       "    .dataframe tbody tr th:only-of-type {\n",
       "        vertical-align: middle;\n",
       "    }\n",
       "\n",
       "    .dataframe tbody tr th {\n",
       "        vertical-align: top;\n",
       "    }\n",
       "\n",
       "    .dataframe thead th {\n",
       "        text-align: right;\n",
       "    }\n",
       "</style>\n",
       "<table border=\"1\" class=\"dataframe\">\n",
       "  <thead>\n",
       "    <tr style=\"text-align: right;\">\n",
       "      <th></th>\n",
       "      <th>Attrition</th>\n",
       "      <th>Age</th>\n",
       "      <th>TravelProfile</th>\n",
       "      <th>Department</th>\n",
       "      <th>HomeToWork</th>\n",
       "      <th>EducationField</th>\n",
       "      <th>Gender</th>\n",
       "      <th>HourlnWeek</th>\n",
       "      <th>Involvement</th>\n",
       "      <th>WorkLifeBalance</th>\n",
       "      <th>...</th>\n",
       "      <th>JobSatisfaction</th>\n",
       "      <th>ESOPs</th>\n",
       "      <th>NumCompaniesWorked</th>\n",
       "      <th>OverTime</th>\n",
       "      <th>SalaryHikelastYear</th>\n",
       "      <th>WorkExperience</th>\n",
       "      <th>LastPromotion</th>\n",
       "      <th>CurrentProfile</th>\n",
       "      <th>MaritalStatus</th>\n",
       "      <th>MonthlyIncome</th>\n",
       "    </tr>\n",
       "  </thead>\n",
       "  <tbody>\n",
       "    <tr>\n",
       "      <th>0</th>\n",
       "      <td>0.0</td>\n",
       "      <td>35.0</td>\n",
       "      <td>Rarely</td>\n",
       "      <td>Analytics</td>\n",
       "      <td>5.0</td>\n",
       "      <td>CA</td>\n",
       "      <td>Male</td>\n",
       "      <td>69.0</td>\n",
       "      <td>1.0</td>\n",
       "      <td>1.0</td>\n",
       "      <td>...</td>\n",
       "      <td>1.0</td>\n",
       "      <td>1.0</td>\n",
       "      <td>1.0</td>\n",
       "      <td>1.0</td>\n",
       "      <td>20.0</td>\n",
       "      <td>7.0</td>\n",
       "      <td>2.0</td>\n",
       "      <td>NaN</td>\n",
       "      <td>M</td>\n",
       "      <td>18932.0</td>\n",
       "    </tr>\n",
       "    <tr>\n",
       "      <th>1</th>\n",
       "      <td>1.0</td>\n",
       "      <td>32.0</td>\n",
       "      <td>Yes</td>\n",
       "      <td>Sales</td>\n",
       "      <td>5.0</td>\n",
       "      <td>Statistics</td>\n",
       "      <td>Female</td>\n",
       "      <td>62.0</td>\n",
       "      <td>4.0</td>\n",
       "      <td>3.0</td>\n",
       "      <td>...</td>\n",
       "      <td>2.0</td>\n",
       "      <td>0.0</td>\n",
       "      <td>8.0</td>\n",
       "      <td>0.0</td>\n",
       "      <td>20.0</td>\n",
       "      <td>4.0</td>\n",
       "      <td>1.0</td>\n",
       "      <td>NaN</td>\n",
       "      <td>Single</td>\n",
       "      <td>18785.0</td>\n",
       "    </tr>\n",
       "    <tr>\n",
       "      <th>2</th>\n",
       "      <td>0.0</td>\n",
       "      <td>31.0</td>\n",
       "      <td>Rarely</td>\n",
       "      <td>Analytics</td>\n",
       "      <td>5.0</td>\n",
       "      <td>Statistics</td>\n",
       "      <td>F</td>\n",
       "      <td>45.0</td>\n",
       "      <td>5.0</td>\n",
       "      <td>3.0</td>\n",
       "      <td>...</td>\n",
       "      <td>2.0</td>\n",
       "      <td>1.0</td>\n",
       "      <td>3.0</td>\n",
       "      <td>0.0</td>\n",
       "      <td>26.0</td>\n",
       "      <td>12.0</td>\n",
       "      <td>1.0</td>\n",
       "      <td>3.0</td>\n",
       "      <td>Single</td>\n",
       "      <td>22091.0</td>\n",
       "    </tr>\n",
       "    <tr>\n",
       "      <th>3</th>\n",
       "      <td>0.0</td>\n",
       "      <td>34.0</td>\n",
       "      <td>Yes</td>\n",
       "      <td>Sales</td>\n",
       "      <td>10.0</td>\n",
       "      <td>Statistics</td>\n",
       "      <td>Female</td>\n",
       "      <td>32.0</td>\n",
       "      <td>3.0</td>\n",
       "      <td>2.0</td>\n",
       "      <td>...</td>\n",
       "      <td>4.0</td>\n",
       "      <td>1.0</td>\n",
       "      <td>1.0</td>\n",
       "      <td>0.0</td>\n",
       "      <td>23.0</td>\n",
       "      <td>5.0</td>\n",
       "      <td>1.0</td>\n",
       "      <td>3.0</td>\n",
       "      <td>Divorsed</td>\n",
       "      <td>20302.0</td>\n",
       "    </tr>\n",
       "    <tr>\n",
       "      <th>4</th>\n",
       "      <td>0.0</td>\n",
       "      <td>37.0</td>\n",
       "      <td>No</td>\n",
       "      <td>Analytics</td>\n",
       "      <td>27.0</td>\n",
       "      <td>Statistics</td>\n",
       "      <td>Female</td>\n",
       "      <td>49.0</td>\n",
       "      <td>3.0</td>\n",
       "      <td>4.0</td>\n",
       "      <td>...</td>\n",
       "      <td>4.0</td>\n",
       "      <td>1.0</td>\n",
       "      <td>8.0</td>\n",
       "      <td>0.0</td>\n",
       "      <td>21.0</td>\n",
       "      <td>12.0</td>\n",
       "      <td>1.0</td>\n",
       "      <td>9.0</td>\n",
       "      <td>Divorsed</td>\n",
       "      <td>21674.0</td>\n",
       "    </tr>\n",
       "  </tbody>\n",
       "</table>\n",
       "<p>5 rows × 21 columns</p>\n",
       "</div>"
      ],
      "text/plain": [
       "   Attrition   Age TravelProfile Department  HomeToWork EducationField  \\\n",
       "0        0.0  35.0        Rarely  Analytics         5.0             CA   \n",
       "1        1.0  32.0           Yes      Sales         5.0     Statistics   \n",
       "2        0.0  31.0        Rarely  Analytics         5.0     Statistics   \n",
       "3        0.0  34.0           Yes      Sales        10.0     Statistics   \n",
       "4        0.0  37.0            No  Analytics        27.0     Statistics   \n",
       "\n",
       "   Gender  HourlnWeek  Involvement  WorkLifeBalance  ... JobSatisfaction  \\\n",
       "0    Male        69.0          1.0              1.0  ...             1.0   \n",
       "1  Female        62.0          4.0              3.0  ...             2.0   \n",
       "2       F        45.0          5.0              3.0  ...             2.0   \n",
       "3  Female        32.0          3.0              2.0  ...             4.0   \n",
       "4  Female        49.0          3.0              4.0  ...             4.0   \n",
       "\n",
       "   ESOPs  NumCompaniesWorked  OverTime  SalaryHikelastYear  WorkExperience  \\\n",
       "0    1.0                 1.0       1.0                20.0             7.0   \n",
       "1    0.0                 8.0       0.0                20.0             4.0   \n",
       "2    1.0                 3.0       0.0                26.0            12.0   \n",
       "3    1.0                 1.0       0.0                23.0             5.0   \n",
       "4    1.0                 8.0       0.0                21.0            12.0   \n",
       "\n",
       "   LastPromotion  CurrentProfile  MaritalStatus MonthlyIncome  \n",
       "0            2.0             NaN              M       18932.0  \n",
       "1            1.0             NaN         Single       18785.0  \n",
       "2            1.0             3.0         Single       22091.0  \n",
       "3            1.0             3.0       Divorsed       20302.0  \n",
       "4            1.0             9.0       Divorsed       21674.0  \n",
       "\n",
       "[5 rows x 21 columns]"
      ]
     },
     "execution_count": 10,
     "metadata": {},
     "output_type": "execute_result"
    }
   ],
   "source": [
    "df_train.head()"
   ]
  },
  {
   "cell_type": "code",
   "execution_count": 11,
   "id": "5f7b2ab3",
   "metadata": {},
   "outputs": [
    {
     "data": {
      "text/plain": [
       "Attrition\n",
       "0.0    3735\n",
       "1.0    1445\n",
       "Name: count, dtype: int64"
      ]
     },
     "execution_count": 11,
     "metadata": {},
     "output_type": "execute_result"
    }
   ],
   "source": [
    "df_train['Attrition'].value_counts()"
   ]
  },
  {
   "cell_type": "code",
   "execution_count": 12,
   "id": "207976ff",
   "metadata": {},
   "outputs": [],
   "source": [
    "df_train['Attrition']  = df_train['Attrition'].fillna('1.0')"
   ]
  },
  {
   "cell_type": "code",
   "execution_count": 13,
   "id": "2677baef",
   "metadata": {},
   "outputs": [],
   "source": [
    "df_train['data']='Train'\n",
    "df_test['data']='Test'"
   ]
  },
  {
   "cell_type": "code",
   "execution_count": 14,
   "id": "33477e6f",
   "metadata": {},
   "outputs": [],
   "source": [
    "all_data = pd.concat([df_train,df_test],axis=0)"
   ]
  },
  {
   "cell_type": "code",
   "execution_count": 15,
   "id": "9b05a4ff",
   "metadata": {
    "scrolled": true
   },
   "outputs": [
    {
     "data": {
      "text/html": [
       "<div>\n",
       "<style scoped>\n",
       "    .dataframe tbody tr th:only-of-type {\n",
       "        vertical-align: middle;\n",
       "    }\n",
       "\n",
       "    .dataframe tbody tr th {\n",
       "        vertical-align: top;\n",
       "    }\n",
       "\n",
       "    .dataframe thead th {\n",
       "        text-align: right;\n",
       "    }\n",
       "</style>\n",
       "<table border=\"1\" class=\"dataframe\">\n",
       "  <thead>\n",
       "    <tr style=\"text-align: right;\">\n",
       "      <th></th>\n",
       "      <th>Attrition</th>\n",
       "      <th>Age</th>\n",
       "      <th>TravelProfile</th>\n",
       "      <th>Department</th>\n",
       "      <th>HomeToWork</th>\n",
       "      <th>EducationField</th>\n",
       "      <th>Gender</th>\n",
       "      <th>HourlnWeek</th>\n",
       "      <th>Involvement</th>\n",
       "      <th>WorkLifeBalance</th>\n",
       "      <th>...</th>\n",
       "      <th>ESOPs</th>\n",
       "      <th>NumCompaniesWorked</th>\n",
       "      <th>OverTime</th>\n",
       "      <th>SalaryHikelastYear</th>\n",
       "      <th>WorkExperience</th>\n",
       "      <th>LastPromotion</th>\n",
       "      <th>CurrentProfile</th>\n",
       "      <th>MaritalStatus</th>\n",
       "      <th>MonthlyIncome</th>\n",
       "      <th>data</th>\n",
       "    </tr>\n",
       "  </thead>\n",
       "  <tbody>\n",
       "    <tr>\n",
       "      <th>0</th>\n",
       "      <td>0.0</td>\n",
       "      <td>35.0</td>\n",
       "      <td>Rarely</td>\n",
       "      <td>Analytics</td>\n",
       "      <td>5.0</td>\n",
       "      <td>CA</td>\n",
       "      <td>Male</td>\n",
       "      <td>69.0</td>\n",
       "      <td>1.0</td>\n",
       "      <td>1.0</td>\n",
       "      <td>...</td>\n",
       "      <td>1.0</td>\n",
       "      <td>1.0</td>\n",
       "      <td>1.0</td>\n",
       "      <td>20.0</td>\n",
       "      <td>7.0</td>\n",
       "      <td>2.0</td>\n",
       "      <td>NaN</td>\n",
       "      <td>M</td>\n",
       "      <td>18932.0</td>\n",
       "      <td>Train</td>\n",
       "    </tr>\n",
       "    <tr>\n",
       "      <th>1</th>\n",
       "      <td>1.0</td>\n",
       "      <td>32.0</td>\n",
       "      <td>Yes</td>\n",
       "      <td>Sales</td>\n",
       "      <td>5.0</td>\n",
       "      <td>Statistics</td>\n",
       "      <td>Female</td>\n",
       "      <td>62.0</td>\n",
       "      <td>4.0</td>\n",
       "      <td>3.0</td>\n",
       "      <td>...</td>\n",
       "      <td>0.0</td>\n",
       "      <td>8.0</td>\n",
       "      <td>0.0</td>\n",
       "      <td>20.0</td>\n",
       "      <td>4.0</td>\n",
       "      <td>1.0</td>\n",
       "      <td>NaN</td>\n",
       "      <td>Single</td>\n",
       "      <td>18785.0</td>\n",
       "      <td>Train</td>\n",
       "    </tr>\n",
       "    <tr>\n",
       "      <th>2</th>\n",
       "      <td>0.0</td>\n",
       "      <td>31.0</td>\n",
       "      <td>Rarely</td>\n",
       "      <td>Analytics</td>\n",
       "      <td>5.0</td>\n",
       "      <td>Statistics</td>\n",
       "      <td>F</td>\n",
       "      <td>45.0</td>\n",
       "      <td>5.0</td>\n",
       "      <td>3.0</td>\n",
       "      <td>...</td>\n",
       "      <td>1.0</td>\n",
       "      <td>3.0</td>\n",
       "      <td>0.0</td>\n",
       "      <td>26.0</td>\n",
       "      <td>12.0</td>\n",
       "      <td>1.0</td>\n",
       "      <td>3.0</td>\n",
       "      <td>Single</td>\n",
       "      <td>22091.0</td>\n",
       "      <td>Train</td>\n",
       "    </tr>\n",
       "    <tr>\n",
       "      <th>3</th>\n",
       "      <td>0.0</td>\n",
       "      <td>34.0</td>\n",
       "      <td>Yes</td>\n",
       "      <td>Sales</td>\n",
       "      <td>10.0</td>\n",
       "      <td>Statistics</td>\n",
       "      <td>Female</td>\n",
       "      <td>32.0</td>\n",
       "      <td>3.0</td>\n",
       "      <td>2.0</td>\n",
       "      <td>...</td>\n",
       "      <td>1.0</td>\n",
       "      <td>1.0</td>\n",
       "      <td>0.0</td>\n",
       "      <td>23.0</td>\n",
       "      <td>5.0</td>\n",
       "      <td>1.0</td>\n",
       "      <td>3.0</td>\n",
       "      <td>Divorsed</td>\n",
       "      <td>20302.0</td>\n",
       "      <td>Train</td>\n",
       "    </tr>\n",
       "    <tr>\n",
       "      <th>4</th>\n",
       "      <td>0.0</td>\n",
       "      <td>37.0</td>\n",
       "      <td>No</td>\n",
       "      <td>Analytics</td>\n",
       "      <td>27.0</td>\n",
       "      <td>Statistics</td>\n",
       "      <td>Female</td>\n",
       "      <td>49.0</td>\n",
       "      <td>3.0</td>\n",
       "      <td>4.0</td>\n",
       "      <td>...</td>\n",
       "      <td>1.0</td>\n",
       "      <td>8.0</td>\n",
       "      <td>0.0</td>\n",
       "      <td>21.0</td>\n",
       "      <td>12.0</td>\n",
       "      <td>1.0</td>\n",
       "      <td>9.0</td>\n",
       "      <td>Divorsed</td>\n",
       "      <td>21674.0</td>\n",
       "      <td>Train</td>\n",
       "    </tr>\n",
       "  </tbody>\n",
       "</table>\n",
       "<p>5 rows × 22 columns</p>\n",
       "</div>"
      ],
      "text/plain": [
       "  Attrition   Age TravelProfile Department  HomeToWork EducationField  Gender  \\\n",
       "0       0.0  35.0        Rarely  Analytics         5.0             CA    Male   \n",
       "1       1.0  32.0           Yes      Sales         5.0     Statistics  Female   \n",
       "2       0.0  31.0        Rarely  Analytics         5.0     Statistics       F   \n",
       "3       0.0  34.0           Yes      Sales        10.0     Statistics  Female   \n",
       "4       0.0  37.0            No  Analytics        27.0     Statistics  Female   \n",
       "\n",
       "   HourlnWeek  Involvement  WorkLifeBalance  ... ESOPs  NumCompaniesWorked  \\\n",
       "0        69.0          1.0              1.0  ...   1.0                 1.0   \n",
       "1        62.0          4.0              3.0  ...   0.0                 8.0   \n",
       "2        45.0          5.0              3.0  ...   1.0                 3.0   \n",
       "3        32.0          3.0              2.0  ...   1.0                 1.0   \n",
       "4        49.0          3.0              4.0  ...   1.0                 8.0   \n",
       "\n",
       "   OverTime  SalaryHikelastYear  WorkExperience  LastPromotion  \\\n",
       "0       1.0                20.0             7.0            2.0   \n",
       "1       0.0                20.0             4.0            1.0   \n",
       "2       0.0                26.0            12.0            1.0   \n",
       "3       0.0                23.0             5.0            1.0   \n",
       "4       0.0                21.0            12.0            1.0   \n",
       "\n",
       "   CurrentProfile  MaritalStatus  MonthlyIncome   data  \n",
       "0             NaN              M        18932.0  Train  \n",
       "1             NaN         Single        18785.0  Train  \n",
       "2             3.0         Single        22091.0  Train  \n",
       "3             3.0       Divorsed        20302.0  Train  \n",
       "4             9.0       Divorsed        21674.0  Train  \n",
       "\n",
       "[5 rows x 22 columns]"
      ]
     },
     "execution_count": 15,
     "metadata": {},
     "output_type": "execute_result"
    }
   ],
   "source": [
    "all_data.head()"
   ]
  },
  {
   "cell_type": "markdown",
   "id": "8a424411",
   "metadata": {},
   "source": [
    "# Data Preprocessing"
   ]
  },
  {
   "cell_type": "markdown",
   "id": "466321e5",
   "metadata": {},
   "source": [
    "### 1. Handling missing values"
   ]
  },
  {
   "cell_type": "code",
   "execution_count": 16,
   "id": "7f80a63d",
   "metadata": {},
   "outputs": [
    {
     "name": "stdout",
     "output_type": "stream",
     "text": [
      "<class 'pandas.core.frame.DataFrame'>\n",
      "Index: 7811 entries, 0 to 2629\n",
      "Data columns (total 22 columns):\n",
      " #   Column              Non-Null Count  Dtype  \n",
      "---  ------              --------------  -----  \n",
      " 0   Attrition           5181 non-null   object \n",
      " 1   Age                 7352 non-null   float64\n",
      " 2   TravelProfile       7810 non-null   object \n",
      " 3   Department          7628 non-null   object \n",
      " 4   HomeToWork          7429 non-null   float64\n",
      " 5   EducationField      7810 non-null   object \n",
      " 6   Gender              7734 non-null   object \n",
      " 7   HourlnWeek          7387 non-null   float64\n",
      " 8   Involvement         7810 non-null   float64\n",
      " 9   WorkLifeBalance     7810 non-null   float64\n",
      " 10  Designation         7742 non-null   object \n",
      " 11  JobSatisfaction     7810 non-null   float64\n",
      " 12  ESOPs               7810 non-null   float64\n",
      " 13  NumCompaniesWorked  7810 non-null   float64\n",
      " 14  OverTime            7810 non-null   float64\n",
      " 15  SalaryHikelastYear  7547 non-null   float64\n",
      " 16  WorkExperience      7501 non-null   float64\n",
      " 17  LastPromotion       7683 non-null   float64\n",
      " 18  CurrentProfile      7365 non-null   float64\n",
      " 19  MaritalStatus       7810 non-null   object \n",
      " 20  MonthlyIncome       7684 non-null   float64\n",
      " 21  data                7811 non-null   object \n",
      "dtypes: float64(14), object(8)\n",
      "memory usage: 1.4+ MB\n"
     ]
    }
   ],
   "source": [
    "all_data.info()"
   ]
  },
  {
   "cell_type": "code",
   "execution_count": 17,
   "id": "1bd0409b",
   "metadata": {},
   "outputs": [
    {
     "data": {
      "text/plain": [
       "Attrition             33.670465\n",
       "Age                    5.876328\n",
       "TravelProfile          0.012802\n",
       "Department             2.342850\n",
       "HomeToWork             4.890539\n",
       "EducationField         0.012802\n",
       "Gender                 0.985789\n",
       "HourlnWeek             5.428242\n",
       "Involvement            0.012802\n",
       "WorkLifeBalance        0.012802\n",
       "Designation            0.883370\n",
       "JobSatisfaction        0.012802\n",
       "ESOPs                  0.012802\n",
       "NumCompaniesWorked     0.012802\n",
       "OverTime               0.012802\n",
       "SalaryHikelastYear     3.379849\n",
       "WorkExperience         3.968762\n",
       "LastPromotion          1.638715\n",
       "CurrentProfile         5.709896\n",
       "MaritalStatus          0.012802\n",
       "MonthlyIncome          1.625912\n",
       "data                   0.000000\n",
       "dtype: float64"
      ]
     },
     "execution_count": 17,
     "metadata": {},
     "output_type": "execute_result"
    }
   ],
   "source": [
    "all_data.isnull().sum()/len(all_data)*100"
   ]
  },
  {
   "cell_type": "code",
   "execution_count": 18,
   "id": "14b2f18d",
   "metadata": {},
   "outputs": [
    {
     "data": {
      "image/png": "[encoded data removed]",
      "text/plain": [
       "<Figure size 640x480 with 1 Axes>"
      ]
     },
     "metadata": {},
     "output_type": "display_data"
    },
    {
     "data": {
      "image/png": "[encoded data removed]",
      "text/plain": [
       "<Figure size 640x480 with 1 Axes>"
      ]
     },
     "metadata": {},
     "output_type": "display_data"
    },
    {
     "data": {
      "image/png": "[encoded data removed]",
      "text/plain": [
       "<Figure size 640x480 with 1 Axes>"
      ]
     },
     "metadata": {},
     "output_type": "display_data"
    },
    {
     "data": {
      "image/png": "[encoded data removed]",
      "text/plain": [
       "<Figure size 640x480 with 1 Axes>"
      ]
     },
     "metadata": {},
     "output_type": "display_data"
    },
    {
     "data": {
      "image/png": "[encoded data removed]",
      "text/plain": [
       "<Figure size 640x480 with 1 Axes>"
      ]
     },
     "metadata": {},
     "output_type": "display_data"
    },
    {
     "data": {
      "image/png": "[encoded data removed]",
      "text/plain": [
       "<Figure size 640x480 with 1 Axes>"
      ]
     },
     "metadata": {},
     "output_type": "display_data"
    },
    {
     "data": {
      "image/png": "[encoded data removed]",
      "text/plain": [
       "<Figure size 640x480 with 1 Axes>"
      ]
     },
     "metadata": {},
     "output_type": "display_data"
    },
    {
     "data": {
      "image/png": "[encoded data removed]",
      "text/plain": [
       "<Figure size 640x480 with 1 Axes>"
      ]
     },
     "metadata": {},
     "output_type": "display_data"
    },
    {
     "data": {
      "image/png": "[encoded data removed]",
      "text/plain": [
       "<Figure size 640x480 with 1 Axes>"
      ]
     },
     "metadata": {},
     "output_type": "display_data"
    },
    {
     "data": {
      "image/png": "[encoded data removed]",
      "text/plain": [
       "<Figure size 640x480 with 1 Axes>"
      ]
     },
     "metadata": {},
     "output_type": "display_data"
    },
    {
     "data": {
      "image/png": "[encoded data removed]",
      "text/plain": [
       "<Figure size 640x480 with 1 Axes>"
      ]
     },
     "metadata": {},
     "output_type": "display_data"
    },
    {
     "data": {
      "image/png": "[encoded data removed]",
      "text/plain": [
       "<Figure size 640x480 with 1 Axes>"
      ]
     },
     "metadata": {},
     "output_type": "display_data"
    },
    {
     "data": {
      "image/png": "[encoded data removed]",
      "text/plain": [
       "<Figure size 640x480 with 1 Axes>"
      ]
     },
     "metadata": {},
     "output_type": "display_data"
    },
    {
     "data": {
      "image/png": "[encoded data removed]",
      "text/plain": [
       "<Figure size 640x480 with 1 Axes>"
      ]
     },
     "metadata": {},
     "output_type": "display_data"
    }
   ],
   "source": [
    "def boxplots(col):\n",
    "    sns.boxplot(all_data[col])\n",
    "    plt.show()\n",
    "    \n",
    "for i in list(all_data.select_dtypes(exclude=[\"object\"]).columns)[0:]:\n",
    "    boxplots(i)"
   ]
  },
  {
   "cell_type": "code",
   "execution_count": 19,
   "id": "b63fc510",
   "metadata": {},
   "outputs": [],
   "source": [
    "# missing value columns\n",
    "\n",
    "# Numeric columns -  Age, HomeToWork, HourlnWeek, Involvement, WorkLifeBalance, JobSatisfaction, ESOPs,\n",
    "# NumCompaniesWorked, OverTime, SalaryHikelastYear, WorkExperience, LastPromotion, CurrentProfile, MonthlyIncome\n",
    "\n",
    "# Categorical columns - TravelProfile, Department, Gender, Designation, MaritalStatus, EducationField"
   ]
  },
  {
   "cell_type": "code",
   "execution_count": 20,
   "id": "1e5007d1",
   "metadata": {},
   "outputs": [
    {
     "data": {
      "text/plain": [
       "TravelProfile\n",
       "Rarely    5489\n",
       "Yes       1580\n",
       "No         741\n",
       "Name: count, dtype: int64"
      ]
     },
     "execution_count": 20,
     "metadata": {},
     "output_type": "execute_result"
    }
   ],
   "source": [
    "all_data['TravelProfile'].value_counts()"
   ]
  },
  {
   "cell_type": "code",
   "execution_count": 21,
   "id": "a600a803",
   "metadata": {},
   "outputs": [],
   "source": [
    "all_data['TravelProfile']=all_data['TravelProfile'].fillna('Rarely')"
   ]
  },
  {
   "cell_type": "code",
   "execution_count": 22,
   "id": "29823aa4",
   "metadata": {},
   "outputs": [
    {
     "data": {
      "text/plain": [
       "Department\n",
       "Analytics    4894\n",
       "Sales        2407\n",
       "Marketing     327\n",
       "Name: count, dtype: int64"
      ]
     },
     "execution_count": 22,
     "metadata": {},
     "output_type": "execute_result"
    }
   ],
   "source": [
    "all_data['Department'].value_counts()"
   ]
  },
  {
   "cell_type": "code",
   "execution_count": 23,
   "id": "99a86c22",
   "metadata": {},
   "outputs": [],
   "source": [
    "all_data['Department']=all_data['Department'].fillna('Analytics')"
   ]
  },
  {
   "cell_type": "code",
   "execution_count": 24,
   "id": "45869cf9",
   "metadata": {},
   "outputs": [
    {
     "data": {
      "text/plain": [
       "Gender\n",
       "Male      4668\n",
       "Female    2020\n",
       "F         1046\n",
       "Name: count, dtype: int64"
      ]
     },
     "execution_count": 24,
     "metadata": {},
     "output_type": "execute_result"
    }
   ],
   "source": [
    "all_data['Gender'].value_counts()"
   ]
  },
  {
   "cell_type": "code",
   "execution_count": 25,
   "id": "364eca95",
   "metadata": {},
   "outputs": [],
   "source": [
    "all_data['Gender']=np.where(all_data['Gender']=='F','Female',all_data['Gender'])\n",
    "all_data['Gender']=all_data['Gender'].fillna('Male')"
   ]
  },
  {
   "cell_type": "code",
   "execution_count": 26,
   "id": "c32d0d1d",
   "metadata": {},
   "outputs": [
    {
     "data": {
      "text/plain": [
       "Designation\n",
       "Executive         3065\n",
       "Manager           2676\n",
       "Senior Manager    1154\n",
       "AVP                507\n",
       "VP                 340\n",
       "Name: count, dtype: int64"
      ]
     },
     "execution_count": 26,
     "metadata": {},
     "output_type": "execute_result"
    }
   ],
   "source": [
    "all_data['Designation'].value_counts()"
   ]
  },
  {
   "cell_type": "code",
   "execution_count": 27,
   "id": "a9da169c",
   "metadata": {},
   "outputs": [],
   "source": [
    "all_data['Designation']=all_data['Designation'].fillna('Executive')"
   ]
  },
  {
   "cell_type": "code",
   "execution_count": 28,
   "id": "6b458f1c",
   "metadata": {},
   "outputs": [
    {
     "data": {
      "text/plain": [
       "MaritalStatus\n",
       "Single      2709\n",
       "Married     2455\n",
       "Divorsed    1493\n",
       "M           1153\n",
       "Name: count, dtype: int64"
      ]
     },
     "execution_count": 28,
     "metadata": {},
     "output_type": "execute_result"
    }
   ],
   "source": [
    "all_data['MaritalStatus'].value_counts()"
   ]
  },
  {
   "cell_type": "code",
   "execution_count": 29,
   "id": "e60dd71e",
   "metadata": {},
   "outputs": [],
   "source": [
    "all_data['MaritalStatus']=np.where(all_data['MaritalStatus']=='M','Married',all_data['MaritalStatus'])"
   ]
  },
  {
   "cell_type": "code",
   "execution_count": 30,
   "id": "fe1d8447",
   "metadata": {},
   "outputs": [
    {
     "data": {
      "text/plain": [
       "MaritalStatus\n",
       "Married     3608\n",
       "Single      2709\n",
       "Divorsed    1493\n",
       "Name: count, dtype: int64"
      ]
     },
     "execution_count": 30,
     "metadata": {},
     "output_type": "execute_result"
    }
   ],
   "source": [
    "all_data['MaritalStatus'].value_counts()"
   ]
  },
  {
   "cell_type": "code",
   "execution_count": 31,
   "id": "004d0d6d",
   "metadata": {},
   "outputs": [],
   "source": [
    "all_data['MaritalStatus']=all_data['MaritalStatus'].fillna('Married')"
   ]
  },
  {
   "cell_type": "code",
   "execution_count": 32,
   "id": "2d8b3575",
   "metadata": {},
   "outputs": [
    {
     "data": {
      "text/plain": [
       "EducationField\n",
       "Statistics           3169\n",
       "CA                   2417\n",
       "Marketing Diploma     894\n",
       "Engineer              750\n",
       "Other                 429\n",
       "MBA                   151\n",
       "Name: count, dtype: int64"
      ]
     },
     "execution_count": 32,
     "metadata": {},
     "output_type": "execute_result"
    }
   ],
   "source": [
    "all_data['EducationField'].value_counts()"
   ]
  },
  {
   "cell_type": "code",
   "execution_count": 33,
   "id": "d20a6257",
   "metadata": {},
   "outputs": [],
   "source": [
    "all_data['EducationField']=all_data['EducationField'].fillna('Statistics')"
   ]
  },
  {
   "cell_type": "code",
   "execution_count": 34,
   "id": "b5468a7c",
   "metadata": {},
   "outputs": [],
   "source": [
    "# missing value columns as for categorical data done above\n",
    "\n",
    "# Numeric columns where no outliers there\n",
    "# Numeric columns - Age,  WorkLifeBalance, JobSatisfaction, ESOPs, OverTime,"
   ]
  },
  {
   "cell_type": "code",
   "execution_count": 35,
   "id": "762d1979",
   "metadata": {},
   "outputs": [],
   "source": [
    "all_data['Age']=all_data['Age'].fillna(all_data['Age'].mean())"
   ]
  },
  {
   "cell_type": "code",
   "execution_count": 36,
   "id": "3f386115",
   "metadata": {},
   "outputs": [],
   "source": [
    "all_data['WorkLifeBalance']=all_data['WorkLifeBalance'].fillna(all_data['WorkLifeBalance'].mean())"
   ]
  },
  {
   "cell_type": "code",
   "execution_count": 37,
   "id": "c716cf89",
   "metadata": {},
   "outputs": [],
   "source": [
    "all_data['JobSatisfaction']=all_data['JobSatisfaction'].fillna(all_data['JobSatisfaction'].mean())"
   ]
  },
  {
   "cell_type": "code",
   "execution_count": 38,
   "id": "5be78be6",
   "metadata": {},
   "outputs": [],
   "source": [
    "all_data['ESOPs']=all_data['ESOPs'].fillna(all_data['ESOPs'].mean())"
   ]
  },
  {
   "cell_type": "code",
   "execution_count": 39,
   "id": "81836657",
   "metadata": {},
   "outputs": [],
   "source": [
    "all_data['OverTime']=all_data['OverTime'].fillna(all_data['OverTime'].mean())"
   ]
  },
  {
   "cell_type": "code",
   "execution_count": 40,
   "id": "542acbe6",
   "metadata": {},
   "outputs": [],
   "source": [
    "# Numeric columns where outliers there\n",
    "\n",
    "# Numeric columns -  HomeToWork, HourlnWeek, Involvement, NumCompaniesWorked, SalaryHikelastYear,\n",
    "# WorkExperience, LastPromotion, CurrentProfile, MonthlyIncome"
   ]
  },
  {
   "cell_type": "code",
   "execution_count": 41,
   "id": "7e288739",
   "metadata": {},
   "outputs": [],
   "source": [
    "all_data['HomeToWork']=all_data['HomeToWork'].fillna(all_data['HomeToWork'].median())"
   ]
  },
  {
   "cell_type": "code",
   "execution_count": 42,
   "id": "170193d3",
   "metadata": {},
   "outputs": [],
   "source": [
    "all_data['HourlnWeek']=all_data['HourlnWeek'].fillna(all_data['HourlnWeek'].median())"
   ]
  },
  {
   "cell_type": "code",
   "execution_count": 43,
   "id": "d3c15969",
   "metadata": {},
   "outputs": [],
   "source": [
    "all_data['Involvement']=all_data['Involvement'].fillna(all_data['Involvement'].median())"
   ]
  },
  {
   "cell_type": "code",
   "execution_count": 44,
   "id": "93409149",
   "metadata": {},
   "outputs": [],
   "source": [
    "all_data['NumCompaniesWorked']=all_data['NumCompaniesWorked'].fillna(all_data['NumCompaniesWorked'].median())"
   ]
  },
  {
   "cell_type": "code",
   "execution_count": 45,
   "id": "0c4c22b5",
   "metadata": {},
   "outputs": [],
   "source": [
    "all_data['SalaryHikelastYear']=all_data['SalaryHikelastYear'].fillna(all_data['SalaryHikelastYear'].median())"
   ]
  },
  {
   "cell_type": "code",
   "execution_count": 46,
   "id": "e61e5959",
   "metadata": {},
   "outputs": [],
   "source": [
    "all_data['WorkExperience']=all_data['WorkExperience'].fillna(all_data['WorkExperience'].median())"
   ]
  },
  {
   "cell_type": "code",
   "execution_count": 47,
   "id": "60791e29",
   "metadata": {},
   "outputs": [],
   "source": [
    "all_data['LastPromotion']=all_data['LastPromotion'].fillna(all_data['LastPromotion'].median())"
   ]
  },
  {
   "cell_type": "code",
   "execution_count": 48,
   "id": "796e5c06",
   "metadata": {},
   "outputs": [],
   "source": [
    "all_data['CurrentProfile']=all_data['CurrentProfile'].fillna(all_data['CurrentProfile'].median())"
   ]
  },
  {
   "cell_type": "code",
   "execution_count": 49,
   "id": "30405a3a",
   "metadata": {},
   "outputs": [],
   "source": [
    "all_data['MonthlyIncome']=all_data['MonthlyIncome'].fillna(all_data['MonthlyIncome'].median())"
   ]
  },
  {
   "cell_type": "code",
   "execution_count": 50,
   "id": "6270e4c9",
   "metadata": {},
   "outputs": [
    {
     "data": {
      "text/plain": [
       "Attrition             33.670465\n",
       "Age                    0.000000\n",
       "TravelProfile          0.000000\n",
       "Department             0.000000\n",
       "HomeToWork             0.000000\n",
       "EducationField         0.000000\n",
       "Gender                 0.000000\n",
       "HourlnWeek             0.000000\n",
       "Involvement            0.000000\n",
       "WorkLifeBalance        0.000000\n",
       "Designation            0.000000\n",
       "JobSatisfaction        0.000000\n",
       "ESOPs                  0.000000\n",
       "NumCompaniesWorked     0.000000\n",
       "OverTime               0.000000\n",
       "SalaryHikelastYear     0.000000\n",
       "WorkExperience         0.000000\n",
       "LastPromotion          0.000000\n",
       "CurrentProfile         0.000000\n",
       "MaritalStatus          0.000000\n",
       "MonthlyIncome          0.000000\n",
       "data                   0.000000\n",
       "dtype: float64"
      ]
     },
     "execution_count": 50,
     "metadata": {},
     "output_type": "execute_result"
    }
   ],
   "source": [
    "all_data.isnull().sum()/len(all_data)*100"
   ]
  },
  {
   "cell_type": "markdown",
   "id": "f498e493",
   "metadata": {},
   "source": [
    "### 2. Handling outlier not required as per the domain and the data we have\n",
    "#### If we handle the outlier it can influence our data"
   ]
  },
  {
   "cell_type": "markdown",
   "id": "aac3f8e1",
   "metadata": {},
   "source": [
    "### 3.Encoding concept"
   ]
  },
  {
   "cell_type": "code",
   "execution_count": 51,
   "id": "2a7edfc6",
   "metadata": {},
   "outputs": [
    {
     "name": "stdout",
     "output_type": "stream",
     "text": [
      "<class 'pandas.core.frame.DataFrame'>\n",
      "Index: 7811 entries, 0 to 2629\n",
      "Data columns (total 22 columns):\n",
      " #   Column              Non-Null Count  Dtype  \n",
      "---  ------              --------------  -----  \n",
      " 0   Attrition           5181 non-null   object \n",
      " 1   Age                 7811 non-null   float64\n",
      " 2   TravelProfile       7811 non-null   object \n",
      " 3   Department          7811 non-null   object \n",
      " 4   HomeToWork          7811 non-null   float64\n",
      " 5   EducationField      7811 non-null   object \n",
      " 6   Gender              7811 non-null   object \n",
      " 7   HourlnWeek          7811 non-null   float64\n",
      " 8   Involvement         7811 non-null   float64\n",
      " 9   WorkLifeBalance     7811 non-null   float64\n",
      " 10  Designation         7811 non-null   object \n",
      " 11  JobSatisfaction     7811 non-null   float64\n",
      " 12  ESOPs               7811 non-null   float64\n",
      " 13  NumCompaniesWorked  7811 non-null   float64\n",
      " 14  OverTime            7811 non-null   float64\n",
      " 15  SalaryHikelastYear  7811 non-null   float64\n",
      " 16  WorkExperience      7811 non-null   float64\n",
      " 17  LastPromotion       7811 non-null   float64\n",
      " 18  CurrentProfile      7811 non-null   float64\n",
      " 19  MaritalStatus       7811 non-null   object \n",
      " 20  MonthlyIncome       7811 non-null   float64\n",
      " 21  data                7811 non-null   object \n",
      "dtypes: float64(14), object(8)\n",
      "memory usage: 1.4+ MB\n"
     ]
    }
   ],
   "source": [
    "all_data.info()"
   ]
  },
  {
   "cell_type": "code",
   "execution_count": 52,
   "id": "1f603e30",
   "metadata": {},
   "outputs": [],
   "source": [
    "# Char Variables with no. of unique values \n",
    "# Features - TravelProfile=3, Department=3, Gender=2, Designation=5, MaritalStatus=3"
   ]
  },
  {
   "cell_type": "code",
   "execution_count": 53,
   "id": "c06ebda3",
   "metadata": {},
   "outputs": [],
   "source": [
    "all_data = pd.get_dummies(all_data,columns=['TravelProfile','Department','Gender','Designation','MaritalStatus','EducationField'],drop_first=True)"
   ]
  },
  {
   "cell_type": "code",
   "execution_count": 54,
   "id": "8cfd9a80",
   "metadata": {},
   "outputs": [
    {
     "data": {
      "text/html": [
       "<div>\n",
       "<style scoped>\n",
       "    .dataframe tbody tr th:only-of-type {\n",
       "        vertical-align: middle;\n",
       "    }\n",
       "\n",
       "    .dataframe tbody tr th {\n",
       "        vertical-align: top;\n",
       "    }\n",
       "\n",
       "    .dataframe thead th {\n",
       "        text-align: right;\n",
       "    }\n",
       "</style>\n",
       "<table border=\"1\" class=\"dataframe\">\n",
       "  <thead>\n",
       "    <tr style=\"text-align: right;\">\n",
       "      <th></th>\n",
       "      <th>Attrition</th>\n",
       "      <th>Age</th>\n",
       "      <th>HomeToWork</th>\n",
       "      <th>HourlnWeek</th>\n",
       "      <th>Involvement</th>\n",
       "      <th>WorkLifeBalance</th>\n",
       "      <th>JobSatisfaction</th>\n",
       "      <th>ESOPs</th>\n",
       "      <th>NumCompaniesWorked</th>\n",
       "      <th>OverTime</th>\n",
       "      <th>...</th>\n",
       "      <th>Designation_Manager</th>\n",
       "      <th>Designation_Senior Manager</th>\n",
       "      <th>Designation_VP</th>\n",
       "      <th>MaritalStatus_Married</th>\n",
       "      <th>MaritalStatus_Single</th>\n",
       "      <th>EducationField_Engineer</th>\n",
       "      <th>EducationField_MBA</th>\n",
       "      <th>EducationField_Marketing Diploma</th>\n",
       "      <th>EducationField_Other</th>\n",
       "      <th>EducationField_Statistics</th>\n",
       "    </tr>\n",
       "  </thead>\n",
       "  <tbody>\n",
       "    <tr>\n",
       "      <th>0</th>\n",
       "      <td>0.0</td>\n",
       "      <td>35.0</td>\n",
       "      <td>5.0</td>\n",
       "      <td>69.0</td>\n",
       "      <td>1.0</td>\n",
       "      <td>1.0</td>\n",
       "      <td>1.0</td>\n",
       "      <td>1.0</td>\n",
       "      <td>1.0</td>\n",
       "      <td>1.0</td>\n",
       "      <td>...</td>\n",
       "      <td>False</td>\n",
       "      <td>False</td>\n",
       "      <td>False</td>\n",
       "      <td>True</td>\n",
       "      <td>False</td>\n",
       "      <td>False</td>\n",
       "      <td>False</td>\n",
       "      <td>False</td>\n",
       "      <td>False</td>\n",
       "      <td>False</td>\n",
       "    </tr>\n",
       "    <tr>\n",
       "      <th>1</th>\n",
       "      <td>1.0</td>\n",
       "      <td>32.0</td>\n",
       "      <td>5.0</td>\n",
       "      <td>62.0</td>\n",
       "      <td>4.0</td>\n",
       "      <td>3.0</td>\n",
       "      <td>2.0</td>\n",
       "      <td>0.0</td>\n",
       "      <td>8.0</td>\n",
       "      <td>0.0</td>\n",
       "      <td>...</td>\n",
       "      <td>False</td>\n",
       "      <td>False</td>\n",
       "      <td>False</td>\n",
       "      <td>False</td>\n",
       "      <td>True</td>\n",
       "      <td>False</td>\n",
       "      <td>False</td>\n",
       "      <td>False</td>\n",
       "      <td>False</td>\n",
       "      <td>True</td>\n",
       "    </tr>\n",
       "    <tr>\n",
       "      <th>2</th>\n",
       "      <td>0.0</td>\n",
       "      <td>31.0</td>\n",
       "      <td>5.0</td>\n",
       "      <td>45.0</td>\n",
       "      <td>5.0</td>\n",
       "      <td>3.0</td>\n",
       "      <td>2.0</td>\n",
       "      <td>1.0</td>\n",
       "      <td>3.0</td>\n",
       "      <td>0.0</td>\n",
       "      <td>...</td>\n",
       "      <td>True</td>\n",
       "      <td>False</td>\n",
       "      <td>False</td>\n",
       "      <td>False</td>\n",
       "      <td>True</td>\n",
       "      <td>False</td>\n",
       "      <td>False</td>\n",
       "      <td>False</td>\n",
       "      <td>False</td>\n",
       "      <td>True</td>\n",
       "    </tr>\n",
       "    <tr>\n",
       "      <th>3</th>\n",
       "      <td>0.0</td>\n",
       "      <td>34.0</td>\n",
       "      <td>10.0</td>\n",
       "      <td>32.0</td>\n",
       "      <td>3.0</td>\n",
       "      <td>2.0</td>\n",
       "      <td>4.0</td>\n",
       "      <td>1.0</td>\n",
       "      <td>1.0</td>\n",
       "      <td>0.0</td>\n",
       "      <td>...</td>\n",
       "      <td>True</td>\n",
       "      <td>False</td>\n",
       "      <td>False</td>\n",
       "      <td>False</td>\n",
       "      <td>False</td>\n",
       "      <td>False</td>\n",
       "      <td>False</td>\n",
       "      <td>False</td>\n",
       "      <td>False</td>\n",
       "      <td>True</td>\n",
       "    </tr>\n",
       "    <tr>\n",
       "      <th>4</th>\n",
       "      <td>0.0</td>\n",
       "      <td>37.0</td>\n",
       "      <td>27.0</td>\n",
       "      <td>49.0</td>\n",
       "      <td>3.0</td>\n",
       "      <td>4.0</td>\n",
       "      <td>4.0</td>\n",
       "      <td>1.0</td>\n",
       "      <td>8.0</td>\n",
       "      <td>0.0</td>\n",
       "      <td>...</td>\n",
       "      <td>True</td>\n",
       "      <td>False</td>\n",
       "      <td>False</td>\n",
       "      <td>False</td>\n",
       "      <td>False</td>\n",
       "      <td>False</td>\n",
       "      <td>False</td>\n",
       "      <td>False</td>\n",
       "      <td>False</td>\n",
       "      <td>True</td>\n",
       "    </tr>\n",
       "  </tbody>\n",
       "</table>\n",
       "<p>5 rows × 32 columns</p>\n",
       "</div>"
      ],
      "text/plain": [
       "  Attrition   Age  HomeToWork  HourlnWeek  Involvement  WorkLifeBalance  \\\n",
       "0       0.0  35.0         5.0        69.0          1.0              1.0   \n",
       "1       1.0  32.0         5.0        62.0          4.0              3.0   \n",
       "2       0.0  31.0         5.0        45.0          5.0              3.0   \n",
       "3       0.0  34.0        10.0        32.0          3.0              2.0   \n",
       "4       0.0  37.0        27.0        49.0          3.0              4.0   \n",
       "\n",
       "   JobSatisfaction  ESOPs  NumCompaniesWorked  OverTime  ...  \\\n",
       "0              1.0    1.0                 1.0       1.0  ...   \n",
       "1              2.0    0.0                 8.0       0.0  ...   \n",
       "2              2.0    1.0                 3.0       0.0  ...   \n",
       "3              4.0    1.0                 1.0       0.0  ...   \n",
       "4              4.0    1.0                 8.0       0.0  ...   \n",
       "\n",
       "   Designation_Manager  Designation_Senior Manager  Designation_VP  \\\n",
       "0                False                       False           False   \n",
       "1                False                       False           False   \n",
       "2                 True                       False           False   \n",
       "3                 True                       False           False   \n",
       "4                 True                       False           False   \n",
       "\n",
       "   MaritalStatus_Married  MaritalStatus_Single EducationField_Engineer  \\\n",
       "0                   True                 False                   False   \n",
       "1                  False                  True                   False   \n",
       "2                  False                  True                   False   \n",
       "3                  False                 False                   False   \n",
       "4                  False                 False                   False   \n",
       "\n",
       "   EducationField_MBA  EducationField_Marketing Diploma  EducationField_Other  \\\n",
       "0               False                             False                 False   \n",
       "1               False                             False                 False   \n",
       "2               False                             False                 False   \n",
       "3               False                             False                 False   \n",
       "4               False                             False                 False   \n",
       "\n",
       "   EducationField_Statistics  \n",
       "0                      False  \n",
       "1                       True  \n",
       "2                       True  \n",
       "3                       True  \n",
       "4                       True  \n",
       "\n",
       "[5 rows x 32 columns]"
      ]
     },
     "execution_count": 54,
     "metadata": {},
     "output_type": "execute_result"
    }
   ],
   "source": [
    "all_data.head()"
   ]
  },
  {
   "cell_type": "code",
   "execution_count": 55,
   "id": "10afff09",
   "metadata": {},
   "outputs": [],
   "source": [
    "train = all_data[all_data['data']=='Train']\n",
    "test = all_data[all_data['data']=='Test']"
   ]
  },
  {
   "cell_type": "code",
   "execution_count": 56,
   "id": "be10320c",
   "metadata": {
    "scrolled": true
   },
   "outputs": [
    {
     "data": {
      "text/html": [
       "<div>\n",
       "<style scoped>\n",
       "    .dataframe tbody tr th:only-of-type {\n",
       "        vertical-align: middle;\n",
       "    }\n",
       "\n",
       "    .dataframe tbody tr th {\n",
       "        vertical-align: top;\n",
       "    }\n",
       "\n",
       "    .dataframe thead th {\n",
       "        text-align: right;\n",
       "    }\n",
       "</style>\n",
       "<table border=\"1\" class=\"dataframe\">\n",
       "  <thead>\n",
       "    <tr style=\"text-align: right;\">\n",
       "      <th></th>\n",
       "      <th>Attrition</th>\n",
       "      <th>Age</th>\n",
       "      <th>HomeToWork</th>\n",
       "      <th>HourlnWeek</th>\n",
       "      <th>Involvement</th>\n",
       "      <th>WorkLifeBalance</th>\n",
       "      <th>JobSatisfaction</th>\n",
       "      <th>ESOPs</th>\n",
       "      <th>NumCompaniesWorked</th>\n",
       "      <th>OverTime</th>\n",
       "      <th>...</th>\n",
       "      <th>Designation_Manager</th>\n",
       "      <th>Designation_Senior Manager</th>\n",
       "      <th>Designation_VP</th>\n",
       "      <th>MaritalStatus_Married</th>\n",
       "      <th>MaritalStatus_Single</th>\n",
       "      <th>EducationField_Engineer</th>\n",
       "      <th>EducationField_MBA</th>\n",
       "      <th>EducationField_Marketing Diploma</th>\n",
       "      <th>EducationField_Other</th>\n",
       "      <th>EducationField_Statistics</th>\n",
       "    </tr>\n",
       "  </thead>\n",
       "  <tbody>\n",
       "    <tr>\n",
       "      <th>0</th>\n",
       "      <td>0.0</td>\n",
       "      <td>35.0</td>\n",
       "      <td>5.0</td>\n",
       "      <td>69.0</td>\n",
       "      <td>1.0</td>\n",
       "      <td>1.0</td>\n",
       "      <td>1.0</td>\n",
       "      <td>1.0</td>\n",
       "      <td>1.0</td>\n",
       "      <td>1.0</td>\n",
       "      <td>...</td>\n",
       "      <td>False</td>\n",
       "      <td>False</td>\n",
       "      <td>False</td>\n",
       "      <td>True</td>\n",
       "      <td>False</td>\n",
       "      <td>False</td>\n",
       "      <td>False</td>\n",
       "      <td>False</td>\n",
       "      <td>False</td>\n",
       "      <td>False</td>\n",
       "    </tr>\n",
       "    <tr>\n",
       "      <th>1</th>\n",
       "      <td>1.0</td>\n",
       "      <td>32.0</td>\n",
       "      <td>5.0</td>\n",
       "      <td>62.0</td>\n",
       "      <td>4.0</td>\n",
       "      <td>3.0</td>\n",
       "      <td>2.0</td>\n",
       "      <td>0.0</td>\n",
       "      <td>8.0</td>\n",
       "      <td>0.0</td>\n",
       "      <td>...</td>\n",
       "      <td>False</td>\n",
       "      <td>False</td>\n",
       "      <td>False</td>\n",
       "      <td>False</td>\n",
       "      <td>True</td>\n",
       "      <td>False</td>\n",
       "      <td>False</td>\n",
       "      <td>False</td>\n",
       "      <td>False</td>\n",
       "      <td>True</td>\n",
       "    </tr>\n",
       "    <tr>\n",
       "      <th>2</th>\n",
       "      <td>0.0</td>\n",
       "      <td>31.0</td>\n",
       "      <td>5.0</td>\n",
       "      <td>45.0</td>\n",
       "      <td>5.0</td>\n",
       "      <td>3.0</td>\n",
       "      <td>2.0</td>\n",
       "      <td>1.0</td>\n",
       "      <td>3.0</td>\n",
       "      <td>0.0</td>\n",
       "      <td>...</td>\n",
       "      <td>True</td>\n",
       "      <td>False</td>\n",
       "      <td>False</td>\n",
       "      <td>False</td>\n",
       "      <td>True</td>\n",
       "      <td>False</td>\n",
       "      <td>False</td>\n",
       "      <td>False</td>\n",
       "      <td>False</td>\n",
       "      <td>True</td>\n",
       "    </tr>\n",
       "    <tr>\n",
       "      <th>3</th>\n",
       "      <td>0.0</td>\n",
       "      <td>34.0</td>\n",
       "      <td>10.0</td>\n",
       "      <td>32.0</td>\n",
       "      <td>3.0</td>\n",
       "      <td>2.0</td>\n",
       "      <td>4.0</td>\n",
       "      <td>1.0</td>\n",
       "      <td>1.0</td>\n",
       "      <td>0.0</td>\n",
       "      <td>...</td>\n",
       "      <td>True</td>\n",
       "      <td>False</td>\n",
       "      <td>False</td>\n",
       "      <td>False</td>\n",
       "      <td>False</td>\n",
       "      <td>False</td>\n",
       "      <td>False</td>\n",
       "      <td>False</td>\n",
       "      <td>False</td>\n",
       "      <td>True</td>\n",
       "    </tr>\n",
       "    <tr>\n",
       "      <th>4</th>\n",
       "      <td>0.0</td>\n",
       "      <td>37.0</td>\n",
       "      <td>27.0</td>\n",
       "      <td>49.0</td>\n",
       "      <td>3.0</td>\n",
       "      <td>4.0</td>\n",
       "      <td>4.0</td>\n",
       "      <td>1.0</td>\n",
       "      <td>8.0</td>\n",
       "      <td>0.0</td>\n",
       "      <td>...</td>\n",
       "      <td>True</td>\n",
       "      <td>False</td>\n",
       "      <td>False</td>\n",
       "      <td>False</td>\n",
       "      <td>False</td>\n",
       "      <td>False</td>\n",
       "      <td>False</td>\n",
       "      <td>False</td>\n",
       "      <td>False</td>\n",
       "      <td>True</td>\n",
       "    </tr>\n",
       "  </tbody>\n",
       "</table>\n",
       "<p>5 rows × 32 columns</p>\n",
       "</div>"
      ],
      "text/plain": [
       "  Attrition   Age  HomeToWork  HourlnWeek  Involvement  WorkLifeBalance  \\\n",
       "0       0.0  35.0         5.0        69.0          1.0              1.0   \n",
       "1       1.0  32.0         5.0        62.0          4.0              3.0   \n",
       "2       0.0  31.0         5.0        45.0          5.0              3.0   \n",
       "3       0.0  34.0        10.0        32.0          3.0              2.0   \n",
       "4       0.0  37.0        27.0        49.0          3.0              4.0   \n",
       "\n",
       "   JobSatisfaction  ESOPs  NumCompaniesWorked  OverTime  ...  \\\n",
       "0              1.0    1.0                 1.0       1.0  ...   \n",
       "1              2.0    0.0                 8.0       0.0  ...   \n",
       "2              2.0    1.0                 3.0       0.0  ...   \n",
       "3              4.0    1.0                 1.0       0.0  ...   \n",
       "4              4.0    1.0                 8.0       0.0  ...   \n",
       "\n",
       "   Designation_Manager  Designation_Senior Manager  Designation_VP  \\\n",
       "0                False                       False           False   \n",
       "1                False                       False           False   \n",
       "2                 True                       False           False   \n",
       "3                 True                       False           False   \n",
       "4                 True                       False           False   \n",
       "\n",
       "   MaritalStatus_Married  MaritalStatus_Single EducationField_Engineer  \\\n",
       "0                   True                 False                   False   \n",
       "1                  False                  True                   False   \n",
       "2                  False                  True                   False   \n",
       "3                  False                 False                   False   \n",
       "4                  False                 False                   False   \n",
       "\n",
       "   EducationField_MBA  EducationField_Marketing Diploma  EducationField_Other  \\\n",
       "0               False                             False                 False   \n",
       "1               False                             False                 False   \n",
       "2               False                             False                 False   \n",
       "3               False                             False                 False   \n",
       "4               False                             False                 False   \n",
       "\n",
       "   EducationField_Statistics  \n",
       "0                      False  \n",
       "1                       True  \n",
       "2                       True  \n",
       "3                       True  \n",
       "4                       True  \n",
       "\n",
       "[5 rows x 32 columns]"
      ]
     },
     "execution_count": 56,
     "metadata": {},
     "output_type": "execute_result"
    }
   ],
   "source": [
    "train.head()"
   ]
  },
  {
   "cell_type": "code",
   "execution_count": 57,
   "id": "3f14662d",
   "metadata": {},
   "outputs": [
    {
     "data": {
      "text/html": [
       "<div>\n",
       "<style scoped>\n",
       "    .dataframe tbody tr th:only-of-type {\n",
       "        vertical-align: middle;\n",
       "    }\n",
       "\n",
       "    .dataframe tbody tr th {\n",
       "        vertical-align: top;\n",
       "    }\n",
       "\n",
       "    .dataframe thead th {\n",
       "        text-align: right;\n",
       "    }\n",
       "</style>\n",
       "<table border=\"1\" class=\"dataframe\">\n",
       "  <thead>\n",
       "    <tr style=\"text-align: right;\">\n",
       "      <th></th>\n",
       "      <th>Attrition</th>\n",
       "      <th>Age</th>\n",
       "      <th>HomeToWork</th>\n",
       "      <th>HourlnWeek</th>\n",
       "      <th>Involvement</th>\n",
       "      <th>WorkLifeBalance</th>\n",
       "      <th>JobSatisfaction</th>\n",
       "      <th>ESOPs</th>\n",
       "      <th>NumCompaniesWorked</th>\n",
       "      <th>OverTime</th>\n",
       "      <th>...</th>\n",
       "      <th>Designation_Manager</th>\n",
       "      <th>Designation_Senior Manager</th>\n",
       "      <th>Designation_VP</th>\n",
       "      <th>MaritalStatus_Married</th>\n",
       "      <th>MaritalStatus_Single</th>\n",
       "      <th>EducationField_Engineer</th>\n",
       "      <th>EducationField_MBA</th>\n",
       "      <th>EducationField_Marketing Diploma</th>\n",
       "      <th>EducationField_Other</th>\n",
       "      <th>EducationField_Statistics</th>\n",
       "    </tr>\n",
       "  </thead>\n",
       "  <tbody>\n",
       "    <tr>\n",
       "      <th>0</th>\n",
       "      <td>NaN</td>\n",
       "      <td>18.0</td>\n",
       "      <td>9.0</td>\n",
       "      <td>80.0</td>\n",
       "      <td>3.0</td>\n",
       "      <td>2.0</td>\n",
       "      <td>3.0</td>\n",
       "      <td>1.0</td>\n",
       "      <td>1.0</td>\n",
       "      <td>0.0</td>\n",
       "      <td>...</td>\n",
       "      <td>False</td>\n",
       "      <td>False</td>\n",
       "      <td>False</td>\n",
       "      <td>False</td>\n",
       "      <td>True</td>\n",
       "      <td>False</td>\n",
       "      <td>False</td>\n",
       "      <td>False</td>\n",
       "      <td>False</td>\n",
       "      <td>False</td>\n",
       "    </tr>\n",
       "    <tr>\n",
       "      <th>1</th>\n",
       "      <td>NaN</td>\n",
       "      <td>20.0</td>\n",
       "      <td>28.0</td>\n",
       "      <td>59.0</td>\n",
       "      <td>1.0</td>\n",
       "      <td>3.0</td>\n",
       "      <td>1.0</td>\n",
       "      <td>1.0</td>\n",
       "      <td>2.0</td>\n",
       "      <td>1.0</td>\n",
       "      <td>...</td>\n",
       "      <td>False</td>\n",
       "      <td>False</td>\n",
       "      <td>False</td>\n",
       "      <td>False</td>\n",
       "      <td>True</td>\n",
       "      <td>False</td>\n",
       "      <td>False</td>\n",
       "      <td>False</td>\n",
       "      <td>False</td>\n",
       "      <td>True</td>\n",
       "    </tr>\n",
       "    <tr>\n",
       "      <th>2</th>\n",
       "      <td>NaN</td>\n",
       "      <td>50.0</td>\n",
       "      <td>19.0</td>\n",
       "      <td>76.0</td>\n",
       "      <td>3.0</td>\n",
       "      <td>3.0</td>\n",
       "      <td>5.0</td>\n",
       "      <td>0.0</td>\n",
       "      <td>5.0</td>\n",
       "      <td>1.0</td>\n",
       "      <td>...</td>\n",
       "      <td>False</td>\n",
       "      <td>False</td>\n",
       "      <td>False</td>\n",
       "      <td>True</td>\n",
       "      <td>False</td>\n",
       "      <td>False</td>\n",
       "      <td>False</td>\n",
       "      <td>False</td>\n",
       "      <td>False</td>\n",
       "      <td>False</td>\n",
       "    </tr>\n",
       "    <tr>\n",
       "      <th>3</th>\n",
       "      <td>NaN</td>\n",
       "      <td>32.0</td>\n",
       "      <td>23.0</td>\n",
       "      <td>73.0</td>\n",
       "      <td>5.0</td>\n",
       "      <td>2.0</td>\n",
       "      <td>3.0</td>\n",
       "      <td>0.0</td>\n",
       "      <td>4.0</td>\n",
       "      <td>1.0</td>\n",
       "      <td>...</td>\n",
       "      <td>True</td>\n",
       "      <td>False</td>\n",
       "      <td>False</td>\n",
       "      <td>True</td>\n",
       "      <td>False</td>\n",
       "      <td>False</td>\n",
       "      <td>False</td>\n",
       "      <td>False</td>\n",
       "      <td>False</td>\n",
       "      <td>True</td>\n",
       "    </tr>\n",
       "    <tr>\n",
       "      <th>4</th>\n",
       "      <td>NaN</td>\n",
       "      <td>39.0</td>\n",
       "      <td>7.0</td>\n",
       "      <td>42.0</td>\n",
       "      <td>4.0</td>\n",
       "      <td>1.0</td>\n",
       "      <td>5.0</td>\n",
       "      <td>1.0</td>\n",
       "      <td>4.0</td>\n",
       "      <td>0.0</td>\n",
       "      <td>...</td>\n",
       "      <td>False</td>\n",
       "      <td>True</td>\n",
       "      <td>False</td>\n",
       "      <td>True</td>\n",
       "      <td>False</td>\n",
       "      <td>False</td>\n",
       "      <td>False</td>\n",
       "      <td>False</td>\n",
       "      <td>False</td>\n",
       "      <td>False</td>\n",
       "    </tr>\n",
       "  </tbody>\n",
       "</table>\n",
       "<p>5 rows × 32 columns</p>\n",
       "</div>"
      ],
      "text/plain": [
       "  Attrition   Age  HomeToWork  HourlnWeek  Involvement  WorkLifeBalance  \\\n",
       "0       NaN  18.0         9.0        80.0          3.0              2.0   \n",
       "1       NaN  20.0        28.0        59.0          1.0              3.0   \n",
       "2       NaN  50.0        19.0        76.0          3.0              3.0   \n",
       "3       NaN  32.0        23.0        73.0          5.0              2.0   \n",
       "4       NaN  39.0         7.0        42.0          4.0              1.0   \n",
       "\n",
       "   JobSatisfaction  ESOPs  NumCompaniesWorked  OverTime  ...  \\\n",
       "0              3.0    1.0                 1.0       0.0  ...   \n",
       "1              1.0    1.0                 2.0       1.0  ...   \n",
       "2              5.0    0.0                 5.0       1.0  ...   \n",
       "3              3.0    0.0                 4.0       1.0  ...   \n",
       "4              5.0    1.0                 4.0       0.0  ...   \n",
       "\n",
       "   Designation_Manager  Designation_Senior Manager  Designation_VP  \\\n",
       "0                False                       False           False   \n",
       "1                False                       False           False   \n",
       "2                False                       False           False   \n",
       "3                 True                       False           False   \n",
       "4                False                        True           False   \n",
       "\n",
       "   MaritalStatus_Married  MaritalStatus_Single EducationField_Engineer  \\\n",
       "0                  False                  True                   False   \n",
       "1                  False                  True                   False   \n",
       "2                   True                 False                   False   \n",
       "3                   True                 False                   False   \n",
       "4                   True                 False                   False   \n",
       "\n",
       "   EducationField_MBA  EducationField_Marketing Diploma  EducationField_Other  \\\n",
       "0               False                             False                 False   \n",
       "1               False                             False                 False   \n",
       "2               False                             False                 False   \n",
       "3               False                             False                 False   \n",
       "4               False                             False                 False   \n",
       "\n",
       "   EducationField_Statistics  \n",
       "0                      False  \n",
       "1                       True  \n",
       "2                      False  \n",
       "3                       True  \n",
       "4                      False  \n",
       "\n",
       "[5 rows x 32 columns]"
      ]
     },
     "execution_count": 57,
     "metadata": {},
     "output_type": "execute_result"
    }
   ],
   "source": [
    "test.head()"
   ]
  },
  {
   "cell_type": "code",
   "execution_count": 58,
   "id": "5f722cd0",
   "metadata": {},
   "outputs": [],
   "source": [
    "x = train.drop(['data','Attrition'], axis=1)\n",
    "y = train['Attrition']"
   ]
  },
  {
   "cell_type": "code",
   "execution_count": 59,
   "id": "9b8357f5",
   "metadata": {},
   "outputs": [
    {
     "data": {
      "text/html": [
       "<div>\n",
       "<style scoped>\n",
       "    .dataframe tbody tr th:only-of-type {\n",
       "        vertical-align: middle;\n",
       "    }\n",
       "\n",
       "    .dataframe tbody tr th {\n",
       "        vertical-align: top;\n",
       "    }\n",
       "\n",
       "    .dataframe thead th {\n",
       "        text-align: right;\n",
       "    }\n",
       "</style>\n",
       "<table border=\"1\" class=\"dataframe\">\n",
       "  <thead>\n",
       "    <tr style=\"text-align: right;\">\n",
       "      <th></th>\n",
       "      <th>Age</th>\n",
       "      <th>HomeToWork</th>\n",
       "      <th>HourlnWeek</th>\n",
       "      <th>Involvement</th>\n",
       "      <th>WorkLifeBalance</th>\n",
       "      <th>JobSatisfaction</th>\n",
       "      <th>ESOPs</th>\n",
       "      <th>NumCompaniesWorked</th>\n",
       "      <th>OverTime</th>\n",
       "      <th>SalaryHikelastYear</th>\n",
       "      <th>...</th>\n",
       "      <th>Designation_Manager</th>\n",
       "      <th>Designation_Senior Manager</th>\n",
       "      <th>Designation_VP</th>\n",
       "      <th>MaritalStatus_Married</th>\n",
       "      <th>MaritalStatus_Single</th>\n",
       "      <th>EducationField_Engineer</th>\n",
       "      <th>EducationField_MBA</th>\n",
       "      <th>EducationField_Marketing Diploma</th>\n",
       "      <th>EducationField_Other</th>\n",
       "      <th>EducationField_Statistics</th>\n",
       "    </tr>\n",
       "  </thead>\n",
       "  <tbody>\n",
       "    <tr>\n",
       "      <th>0</th>\n",
       "      <td>35.0</td>\n",
       "      <td>5.0</td>\n",
       "      <td>69.0</td>\n",
       "      <td>1.0</td>\n",
       "      <td>1.0</td>\n",
       "      <td>1.0</td>\n",
       "      <td>1.0</td>\n",
       "      <td>1.0</td>\n",
       "      <td>1.0</td>\n",
       "      <td>20.0</td>\n",
       "      <td>...</td>\n",
       "      <td>False</td>\n",
       "      <td>False</td>\n",
       "      <td>False</td>\n",
       "      <td>True</td>\n",
       "      <td>False</td>\n",
       "      <td>False</td>\n",
       "      <td>False</td>\n",
       "      <td>False</td>\n",
       "      <td>False</td>\n",
       "      <td>False</td>\n",
       "    </tr>\n",
       "    <tr>\n",
       "      <th>1</th>\n",
       "      <td>32.0</td>\n",
       "      <td>5.0</td>\n",
       "      <td>62.0</td>\n",
       "      <td>4.0</td>\n",
       "      <td>3.0</td>\n",
       "      <td>2.0</td>\n",
       "      <td>0.0</td>\n",
       "      <td>8.0</td>\n",
       "      <td>0.0</td>\n",
       "      <td>20.0</td>\n",
       "      <td>...</td>\n",
       "      <td>False</td>\n",
       "      <td>False</td>\n",
       "      <td>False</td>\n",
       "      <td>False</td>\n",
       "      <td>True</td>\n",
       "      <td>False</td>\n",
       "      <td>False</td>\n",
       "      <td>False</td>\n",
       "      <td>False</td>\n",
       "      <td>True</td>\n",
       "    </tr>\n",
       "    <tr>\n",
       "      <th>2</th>\n",
       "      <td>31.0</td>\n",
       "      <td>5.0</td>\n",
       "      <td>45.0</td>\n",
       "      <td>5.0</td>\n",
       "      <td>3.0</td>\n",
       "      <td>2.0</td>\n",
       "      <td>1.0</td>\n",
       "      <td>3.0</td>\n",
       "      <td>0.0</td>\n",
       "      <td>26.0</td>\n",
       "      <td>...</td>\n",
       "      <td>True</td>\n",
       "      <td>False</td>\n",
       "      <td>False</td>\n",
       "      <td>False</td>\n",
       "      <td>True</td>\n",
       "      <td>False</td>\n",
       "      <td>False</td>\n",
       "      <td>False</td>\n",
       "      <td>False</td>\n",
       "      <td>True</td>\n",
       "    </tr>\n",
       "    <tr>\n",
       "      <th>3</th>\n",
       "      <td>34.0</td>\n",
       "      <td>10.0</td>\n",
       "      <td>32.0</td>\n",
       "      <td>3.0</td>\n",
       "      <td>2.0</td>\n",
       "      <td>4.0</td>\n",
       "      <td>1.0</td>\n",
       "      <td>1.0</td>\n",
       "      <td>0.0</td>\n",
       "      <td>23.0</td>\n",
       "      <td>...</td>\n",
       "      <td>True</td>\n",
       "      <td>False</td>\n",
       "      <td>False</td>\n",
       "      <td>False</td>\n",
       "      <td>False</td>\n",
       "      <td>False</td>\n",
       "      <td>False</td>\n",
       "      <td>False</td>\n",
       "      <td>False</td>\n",
       "      <td>True</td>\n",
       "    </tr>\n",
       "    <tr>\n",
       "      <th>4</th>\n",
       "      <td>37.0</td>\n",
       "      <td>27.0</td>\n",
       "      <td>49.0</td>\n",
       "      <td>3.0</td>\n",
       "      <td>4.0</td>\n",
       "      <td>4.0</td>\n",
       "      <td>1.0</td>\n",
       "      <td>8.0</td>\n",
       "      <td>0.0</td>\n",
       "      <td>21.0</td>\n",
       "      <td>...</td>\n",
       "      <td>True</td>\n",
       "      <td>False</td>\n",
       "      <td>False</td>\n",
       "      <td>False</td>\n",
       "      <td>False</td>\n",
       "      <td>False</td>\n",
       "      <td>False</td>\n",
       "      <td>False</td>\n",
       "      <td>False</td>\n",
       "      <td>True</td>\n",
       "    </tr>\n",
       "  </tbody>\n",
       "</table>\n",
       "<p>5 rows × 30 columns</p>\n",
       "</div>"
      ],
      "text/plain": [
       "    Age  HomeToWork  HourlnWeek  Involvement  WorkLifeBalance  \\\n",
       "0  35.0         5.0        69.0          1.0              1.0   \n",
       "1  32.0         5.0        62.0          4.0              3.0   \n",
       "2  31.0         5.0        45.0          5.0              3.0   \n",
       "3  34.0        10.0        32.0          3.0              2.0   \n",
       "4  37.0        27.0        49.0          3.0              4.0   \n",
       "\n",
       "   JobSatisfaction  ESOPs  NumCompaniesWorked  OverTime  SalaryHikelastYear  \\\n",
       "0              1.0    1.0                 1.0       1.0                20.0   \n",
       "1              2.0    0.0                 8.0       0.0                20.0   \n",
       "2              2.0    1.0                 3.0       0.0                26.0   \n",
       "3              4.0    1.0                 1.0       0.0                23.0   \n",
       "4              4.0    1.0                 8.0       0.0                21.0   \n",
       "\n",
       "   ...  Designation_Manager  Designation_Senior Manager  Designation_VP  \\\n",
       "0  ...                False                       False           False   \n",
       "1  ...                False                       False           False   \n",
       "2  ...                 True                       False           False   \n",
       "3  ...                 True                       False           False   \n",
       "4  ...                 True                       False           False   \n",
       "\n",
       "   MaritalStatus_Married  MaritalStatus_Single  EducationField_Engineer  \\\n",
       "0                   True                 False                    False   \n",
       "1                  False                  True                    False   \n",
       "2                  False                  True                    False   \n",
       "3                  False                 False                    False   \n",
       "4                  False                 False                    False   \n",
       "\n",
       "   EducationField_MBA  EducationField_Marketing Diploma  EducationField_Other  \\\n",
       "0               False                             False                 False   \n",
       "1               False                             False                 False   \n",
       "2               False                             False                 False   \n",
       "3               False                             False                 False   \n",
       "4               False                             False                 False   \n",
       "\n",
       "   EducationField_Statistics  \n",
       "0                      False  \n",
       "1                       True  \n",
       "2                       True  \n",
       "3                       True  \n",
       "4                       True  \n",
       "\n",
       "[5 rows x 30 columns]"
      ]
     },
     "execution_count": 59,
     "metadata": {},
     "output_type": "execute_result"
    }
   ],
   "source": [
    "x.head()"
   ]
  },
  {
   "cell_type": "code",
   "execution_count": 60,
   "id": "4721d3f5",
   "metadata": {},
   "outputs": [
    {
     "data": {
      "text/plain": [
       "0    0.0\n",
       "1    1.0\n",
       "2    0.0\n",
       "3    0.0\n",
       "4    0.0\n",
       "Name: Attrition, dtype: object"
      ]
     },
     "execution_count": 60,
     "metadata": {},
     "output_type": "execute_result"
    }
   ],
   "source": [
    "y.head()"
   ]
  },
  {
   "cell_type": "code",
   "execution_count": 61,
   "id": "ee35e057",
   "metadata": {},
   "outputs": [],
   "source": [
    "test=test.drop(['data','Attrition'], axis=1)"
   ]
  },
  {
   "cell_type": "code",
   "execution_count": 62,
   "id": "7e3d10ec",
   "metadata": {},
   "outputs": [
    {
     "data": {
      "text/html": [
       "<div>\n",
       "<style scoped>\n",
       "    .dataframe tbody tr th:only-of-type {\n",
       "        vertical-align: middle;\n",
       "    }\n",
       "\n",
       "    .dataframe tbody tr th {\n",
       "        vertical-align: top;\n",
       "    }\n",
       "\n",
       "    .dataframe thead th {\n",
       "        text-align: right;\n",
       "    }\n",
       "</style>\n",
       "<table border=\"1\" class=\"dataframe\">\n",
       "  <thead>\n",
       "    <tr style=\"text-align: right;\">\n",
       "      <th></th>\n",
       "      <th>Age</th>\n",
       "      <th>HomeToWork</th>\n",
       "      <th>HourlnWeek</th>\n",
       "      <th>Involvement</th>\n",
       "      <th>WorkLifeBalance</th>\n",
       "      <th>JobSatisfaction</th>\n",
       "      <th>ESOPs</th>\n",
       "      <th>NumCompaniesWorked</th>\n",
       "      <th>OverTime</th>\n",
       "      <th>SalaryHikelastYear</th>\n",
       "      <th>...</th>\n",
       "      <th>Designation_Manager</th>\n",
       "      <th>Designation_Senior Manager</th>\n",
       "      <th>Designation_VP</th>\n",
       "      <th>MaritalStatus_Married</th>\n",
       "      <th>MaritalStatus_Single</th>\n",
       "      <th>EducationField_Engineer</th>\n",
       "      <th>EducationField_MBA</th>\n",
       "      <th>EducationField_Marketing Diploma</th>\n",
       "      <th>EducationField_Other</th>\n",
       "      <th>EducationField_Statistics</th>\n",
       "    </tr>\n",
       "  </thead>\n",
       "  <tbody>\n",
       "    <tr>\n",
       "      <th>0</th>\n",
       "      <td>18.0</td>\n",
       "      <td>9.0</td>\n",
       "      <td>80.0</td>\n",
       "      <td>3.0</td>\n",
       "      <td>2.0</td>\n",
       "      <td>3.0</td>\n",
       "      <td>1.0</td>\n",
       "      <td>1.0</td>\n",
       "      <td>0.0</td>\n",
       "      <td>17.0</td>\n",
       "      <td>...</td>\n",
       "      <td>False</td>\n",
       "      <td>False</td>\n",
       "      <td>False</td>\n",
       "      <td>False</td>\n",
       "      <td>True</td>\n",
       "      <td>False</td>\n",
       "      <td>False</td>\n",
       "      <td>False</td>\n",
       "      <td>False</td>\n",
       "      <td>False</td>\n",
       "    </tr>\n",
       "    <tr>\n",
       "      <th>1</th>\n",
       "      <td>20.0</td>\n",
       "      <td>28.0</td>\n",
       "      <td>59.0</td>\n",
       "      <td>1.0</td>\n",
       "      <td>3.0</td>\n",
       "      <td>1.0</td>\n",
       "      <td>1.0</td>\n",
       "      <td>2.0</td>\n",
       "      <td>1.0</td>\n",
       "      <td>18.0</td>\n",
       "      <td>...</td>\n",
       "      <td>False</td>\n",
       "      <td>False</td>\n",
       "      <td>False</td>\n",
       "      <td>False</td>\n",
       "      <td>True</td>\n",
       "      <td>False</td>\n",
       "      <td>False</td>\n",
       "      <td>False</td>\n",
       "      <td>False</td>\n",
       "      <td>True</td>\n",
       "    </tr>\n",
       "    <tr>\n",
       "      <th>2</th>\n",
       "      <td>50.0</td>\n",
       "      <td>19.0</td>\n",
       "      <td>76.0</td>\n",
       "      <td>3.0</td>\n",
       "      <td>3.0</td>\n",
       "      <td>5.0</td>\n",
       "      <td>0.0</td>\n",
       "      <td>5.0</td>\n",
       "      <td>1.0</td>\n",
       "      <td>22.0</td>\n",
       "      <td>...</td>\n",
       "      <td>False</td>\n",
       "      <td>False</td>\n",
       "      <td>False</td>\n",
       "      <td>True</td>\n",
       "      <td>False</td>\n",
       "      <td>False</td>\n",
       "      <td>False</td>\n",
       "      <td>False</td>\n",
       "      <td>False</td>\n",
       "      <td>False</td>\n",
       "    </tr>\n",
       "    <tr>\n",
       "      <th>3</th>\n",
       "      <td>32.0</td>\n",
       "      <td>23.0</td>\n",
       "      <td>73.0</td>\n",
       "      <td>5.0</td>\n",
       "      <td>2.0</td>\n",
       "      <td>3.0</td>\n",
       "      <td>0.0</td>\n",
       "      <td>4.0</td>\n",
       "      <td>1.0</td>\n",
       "      <td>17.0</td>\n",
       "      <td>...</td>\n",
       "      <td>True</td>\n",
       "      <td>False</td>\n",
       "      <td>False</td>\n",
       "      <td>True</td>\n",
       "      <td>False</td>\n",
       "      <td>False</td>\n",
       "      <td>False</td>\n",
       "      <td>False</td>\n",
       "      <td>False</td>\n",
       "      <td>True</td>\n",
       "    </tr>\n",
       "    <tr>\n",
       "      <th>4</th>\n",
       "      <td>39.0</td>\n",
       "      <td>7.0</td>\n",
       "      <td>42.0</td>\n",
       "      <td>4.0</td>\n",
       "      <td>1.0</td>\n",
       "      <td>5.0</td>\n",
       "      <td>1.0</td>\n",
       "      <td>4.0</td>\n",
       "      <td>0.0</td>\n",
       "      <td>20.0</td>\n",
       "      <td>...</td>\n",
       "      <td>False</td>\n",
       "      <td>True</td>\n",
       "      <td>False</td>\n",
       "      <td>True</td>\n",
       "      <td>False</td>\n",
       "      <td>False</td>\n",
       "      <td>False</td>\n",
       "      <td>False</td>\n",
       "      <td>False</td>\n",
       "      <td>False</td>\n",
       "    </tr>\n",
       "  </tbody>\n",
       "</table>\n",
       "<p>5 rows × 30 columns</p>\n",
       "</div>"
      ],
      "text/plain": [
       "    Age  HomeToWork  HourlnWeek  Involvement  WorkLifeBalance  \\\n",
       "0  18.0         9.0        80.0          3.0              2.0   \n",
       "1  20.0        28.0        59.0          1.0              3.0   \n",
       "2  50.0        19.0        76.0          3.0              3.0   \n",
       "3  32.0        23.0        73.0          5.0              2.0   \n",
       "4  39.0         7.0        42.0          4.0              1.0   \n",
       "\n",
       "   JobSatisfaction  ESOPs  NumCompaniesWorked  OverTime  SalaryHikelastYear  \\\n",
       "0              3.0    1.0                 1.0       0.0                17.0   \n",
       "1              1.0    1.0                 2.0       1.0                18.0   \n",
       "2              5.0    0.0                 5.0       1.0                22.0   \n",
       "3              3.0    0.0                 4.0       1.0                17.0   \n",
       "4              5.0    1.0                 4.0       0.0                20.0   \n",
       "\n",
       "   ...  Designation_Manager  Designation_Senior Manager  Designation_VP  \\\n",
       "0  ...                False                       False           False   \n",
       "1  ...                False                       False           False   \n",
       "2  ...                False                       False           False   \n",
       "3  ...                 True                       False           False   \n",
       "4  ...                False                        True           False   \n",
       "\n",
       "   MaritalStatus_Married  MaritalStatus_Single  EducationField_Engineer  \\\n",
       "0                  False                  True                    False   \n",
       "1                  False                  True                    False   \n",
       "2                   True                 False                    False   \n",
       "3                   True                 False                    False   \n",
       "4                   True                 False                    False   \n",
       "\n",
       "   EducationField_MBA  EducationField_Marketing Diploma  EducationField_Other  \\\n",
       "0               False                             False                 False   \n",
       "1               False                             False                 False   \n",
       "2               False                             False                 False   \n",
       "3               False                             False                 False   \n",
       "4               False                             False                 False   \n",
       "\n",
       "   EducationField_Statistics  \n",
       "0                      False  \n",
       "1                       True  \n",
       "2                      False  \n",
       "3                       True  \n",
       "4                      False  \n",
       "\n",
       "[5 rows x 30 columns]"
      ]
     },
     "execution_count": 62,
     "metadata": {},
     "output_type": "execute_result"
    }
   ],
   "source": [
    "test.head()"
   ]
  },
  {
   "cell_type": "markdown",
   "id": "7034ff56",
   "metadata": {},
   "source": [
    "### 4. Feature sclaing"
   ]
  },
  {
   "cell_type": "code",
   "execution_count": 63,
   "id": "e9535bcc",
   "metadata": {},
   "outputs": [],
   "source": [
    "from sklearn.preprocessing import StandardScaler\n",
    "scaler = StandardScaler()\n",
    "sc_x = scaler.fit_transform(x)"
   ]
  },
  {
   "cell_type": "code",
   "execution_count": 64,
   "id": "b669a27e",
   "metadata": {},
   "outputs": [
    {
     "data": {
      "text/html": [
       "<div>\n",
       "<style scoped>\n",
       "    .dataframe tbody tr th:only-of-type {\n",
       "        vertical-align: middle;\n",
       "    }\n",
       "\n",
       "    .dataframe tbody tr th {\n",
       "        vertical-align: top;\n",
       "    }\n",
       "\n",
       "    .dataframe thead th {\n",
       "        text-align: right;\n",
       "    }\n",
       "</style>\n",
       "<table border=\"1\" class=\"dataframe\">\n",
       "  <thead>\n",
       "    <tr style=\"text-align: right;\">\n",
       "      <th></th>\n",
       "      <th>0</th>\n",
       "      <th>1</th>\n",
       "      <th>2</th>\n",
       "      <th>3</th>\n",
       "      <th>4</th>\n",
       "      <th>5</th>\n",
       "      <th>6</th>\n",
       "      <th>7</th>\n",
       "      <th>8</th>\n",
       "      <th>9</th>\n",
       "      <th>...</th>\n",
       "      <th>20</th>\n",
       "      <th>21</th>\n",
       "      <th>22</th>\n",
       "      <th>23</th>\n",
       "      <th>24</th>\n",
       "      <th>25</th>\n",
       "      <th>26</th>\n",
       "      <th>27</th>\n",
       "      <th>28</th>\n",
       "      <th>29</th>\n",
       "    </tr>\n",
       "  </thead>\n",
       "  <tbody>\n",
       "    <tr>\n",
       "      <th>0</th>\n",
       "      <td>-0.236053</td>\n",
       "      <td>-0.727156</td>\n",
       "      <td>0.867975</td>\n",
       "      <td>-2.552651</td>\n",
       "      <td>-1.427145</td>\n",
       "      <td>-1.597298</td>\n",
       "      <td>1.019198</td>\n",
       "      <td>-0.827881</td>\n",
       "      <td>1.479889</td>\n",
       "      <td>-0.172232</td>\n",
       "      <td>...</td>\n",
       "      <td>-0.716031</td>\n",
       "      <td>-0.415575</td>\n",
       "      <td>-0.21208</td>\n",
       "      <td>1.081060</td>\n",
       "      <td>-0.722209</td>\n",
       "      <td>-0.322102</td>\n",
       "      <td>-0.152001</td>\n",
       "      <td>-0.362928</td>\n",
       "      <td>-0.240821</td>\n",
       "      <td>-0.835543</td>\n",
       "    </tr>\n",
       "    <tr>\n",
       "      <th>1</th>\n",
       "      <td>-0.570861</td>\n",
       "      <td>-0.727156</td>\n",
       "      <td>0.313789</td>\n",
       "      <td>0.886657</td>\n",
       "      <td>-0.009037</td>\n",
       "      <td>-0.852428</td>\n",
       "      <td>-0.981353</td>\n",
       "      <td>1.858659</td>\n",
       "      <td>-0.675858</td>\n",
       "      <td>-0.172232</td>\n",
       "      <td>...</td>\n",
       "      <td>-0.716031</td>\n",
       "      <td>-0.415575</td>\n",
       "      <td>-0.21208</td>\n",
       "      <td>-0.925018</td>\n",
       "      <td>1.384641</td>\n",
       "      <td>-0.322102</td>\n",
       "      <td>-0.152001</td>\n",
       "      <td>-0.362928</td>\n",
       "      <td>-0.240821</td>\n",
       "      <td>1.196827</td>\n",
       "    </tr>\n",
       "    <tr>\n",
       "      <th>2</th>\n",
       "      <td>-0.682464</td>\n",
       "      <td>-0.727156</td>\n",
       "      <td>-1.032089</td>\n",
       "      <td>2.033093</td>\n",
       "      <td>-0.009037</td>\n",
       "      <td>-0.852428</td>\n",
       "      <td>1.019198</td>\n",
       "      <td>-0.060298</td>\n",
       "      <td>-0.675858</td>\n",
       "      <td>1.473125</td>\n",
       "      <td>...</td>\n",
       "      <td>1.396587</td>\n",
       "      <td>-0.415575</td>\n",
       "      <td>-0.21208</td>\n",
       "      <td>-0.925018</td>\n",
       "      <td>1.384641</td>\n",
       "      <td>-0.322102</td>\n",
       "      <td>-0.152001</td>\n",
       "      <td>-0.362928</td>\n",
       "      <td>-0.240821</td>\n",
       "      <td>1.196827</td>\n",
       "    </tr>\n",
       "    <tr>\n",
       "      <th>3</th>\n",
       "      <td>-0.347656</td>\n",
       "      <td>-0.121524</td>\n",
       "      <td>-2.061291</td>\n",
       "      <td>-0.259779</td>\n",
       "      <td>-0.718091</td>\n",
       "      <td>0.637311</td>\n",
       "      <td>1.019198</td>\n",
       "      <td>-0.827881</td>\n",
       "      <td>-0.675858</td>\n",
       "      <td>0.650447</td>\n",
       "      <td>...</td>\n",
       "      <td>1.396587</td>\n",
       "      <td>-0.415575</td>\n",
       "      <td>-0.21208</td>\n",
       "      <td>-0.925018</td>\n",
       "      <td>-0.722209</td>\n",
       "      <td>-0.322102</td>\n",
       "      <td>-0.152001</td>\n",
       "      <td>-0.362928</td>\n",
       "      <td>-0.240821</td>\n",
       "      <td>1.196827</td>\n",
       "    </tr>\n",
       "    <tr>\n",
       "      <th>4</th>\n",
       "      <td>-0.012848</td>\n",
       "      <td>1.937625</td>\n",
       "      <td>-0.715412</td>\n",
       "      <td>-0.259779</td>\n",
       "      <td>0.700017</td>\n",
       "      <td>0.637311</td>\n",
       "      <td>1.019198</td>\n",
       "      <td>1.858659</td>\n",
       "      <td>-0.675858</td>\n",
       "      <td>0.101995</td>\n",
       "      <td>...</td>\n",
       "      <td>1.396587</td>\n",
       "      <td>-0.415575</td>\n",
       "      <td>-0.21208</td>\n",
       "      <td>-0.925018</td>\n",
       "      <td>-0.722209</td>\n",
       "      <td>-0.322102</td>\n",
       "      <td>-0.152001</td>\n",
       "      <td>-0.362928</td>\n",
       "      <td>-0.240821</td>\n",
       "      <td>1.196827</td>\n",
       "    </tr>\n",
       "    <tr>\n",
       "      <th>...</th>\n",
       "      <td>...</td>\n",
       "      <td>...</td>\n",
       "      <td>...</td>\n",
       "      <td>...</td>\n",
       "      <td>...</td>\n",
       "      <td>...</td>\n",
       "      <td>...</td>\n",
       "      <td>...</td>\n",
       "      <td>...</td>\n",
       "      <td>...</td>\n",
       "      <td>...</td>\n",
       "      <td>...</td>\n",
       "      <td>...</td>\n",
       "      <td>...</td>\n",
       "      <td>...</td>\n",
       "      <td>...</td>\n",
       "      <td>...</td>\n",
       "      <td>...</td>\n",
       "      <td>...</td>\n",
       "      <td>...</td>\n",
       "      <td>...</td>\n",
       "    </tr>\n",
       "    <tr>\n",
       "      <th>5176</th>\n",
       "      <td>0.011243</td>\n",
       "      <td>-0.242650</td>\n",
       "      <td>0.630467</td>\n",
       "      <td>-2.552651</td>\n",
       "      <td>0.700017</td>\n",
       "      <td>0.637311</td>\n",
       "      <td>1.019198</td>\n",
       "      <td>2.242450</td>\n",
       "      <td>-0.675858</td>\n",
       "      <td>0.650447</td>\n",
       "      <td>...</td>\n",
       "      <td>-0.716031</td>\n",
       "      <td>-0.415575</td>\n",
       "      <td>-0.21208</td>\n",
       "      <td>-0.925018</td>\n",
       "      <td>1.384641</td>\n",
       "      <td>-0.322102</td>\n",
       "      <td>-0.152001</td>\n",
       "      <td>-0.362928</td>\n",
       "      <td>-0.240821</td>\n",
       "      <td>-0.835543</td>\n",
       "    </tr>\n",
       "    <tr>\n",
       "      <th>5177</th>\n",
       "      <td>-0.905669</td>\n",
       "      <td>-0.242650</td>\n",
       "      <td>0.313789</td>\n",
       "      <td>0.886657</td>\n",
       "      <td>-0.718091</td>\n",
       "      <td>-1.597298</td>\n",
       "      <td>1.019198</td>\n",
       "      <td>1.091076</td>\n",
       "      <td>-0.675858</td>\n",
       "      <td>-0.446458</td>\n",
       "      <td>...</td>\n",
       "      <td>-0.716031</td>\n",
       "      <td>-0.415575</td>\n",
       "      <td>-0.21208</td>\n",
       "      <td>1.081060</td>\n",
       "      <td>-0.722209</td>\n",
       "      <td>-0.322102</td>\n",
       "      <td>-0.152001</td>\n",
       "      <td>-0.362928</td>\n",
       "      <td>-0.240821</td>\n",
       "      <td>-0.835543</td>\n",
       "    </tr>\n",
       "    <tr>\n",
       "      <th>5178</th>\n",
       "      <td>-1.240477</td>\n",
       "      <td>1.816499</td>\n",
       "      <td>0.234620</td>\n",
       "      <td>-0.259779</td>\n",
       "      <td>0.700017</td>\n",
       "      <td>-0.107559</td>\n",
       "      <td>-0.981353</td>\n",
       "      <td>-0.827881</td>\n",
       "      <td>-0.675858</td>\n",
       "      <td>2.021578</td>\n",
       "      <td>...</td>\n",
       "      <td>-0.716031</td>\n",
       "      <td>-0.415575</td>\n",
       "      <td>-0.21208</td>\n",
       "      <td>-0.925018</td>\n",
       "      <td>-0.722209</td>\n",
       "      <td>-0.322102</td>\n",
       "      <td>-0.152001</td>\n",
       "      <td>-0.362928</td>\n",
       "      <td>-0.240821</td>\n",
       "      <td>1.196827</td>\n",
       "    </tr>\n",
       "    <tr>\n",
       "      <th>5179</th>\n",
       "      <td>0.011243</td>\n",
       "      <td>0.241855</td>\n",
       "      <td>1.263821</td>\n",
       "      <td>0.886657</td>\n",
       "      <td>-0.009037</td>\n",
       "      <td>1.382180</td>\n",
       "      <td>1.019198</td>\n",
       "      <td>-0.827881</td>\n",
       "      <td>-0.675858</td>\n",
       "      <td>0.650447</td>\n",
       "      <td>...</td>\n",
       "      <td>-0.716031</td>\n",
       "      <td>-0.415575</td>\n",
       "      <td>-0.21208</td>\n",
       "      <td>-0.925018</td>\n",
       "      <td>-0.722209</td>\n",
       "      <td>-0.322102</td>\n",
       "      <td>-0.152001</td>\n",
       "      <td>-0.362928</td>\n",
       "      <td>-0.240821</td>\n",
       "      <td>1.196827</td>\n",
       "    </tr>\n",
       "    <tr>\n",
       "      <th>5180</th>\n",
       "      <td>0.011243</td>\n",
       "      <td>-0.242650</td>\n",
       "      <td>0.076281</td>\n",
       "      <td>-0.259779</td>\n",
       "      <td>0.013479</td>\n",
       "      <td>-0.007226</td>\n",
       "      <td>0.009701</td>\n",
       "      <td>-0.444090</td>\n",
       "      <td>0.011994</td>\n",
       "      <td>-0.172232</td>\n",
       "      <td>...</td>\n",
       "      <td>-0.716031</td>\n",
       "      <td>-0.415575</td>\n",
       "      <td>-0.21208</td>\n",
       "      <td>1.081060</td>\n",
       "      <td>-0.722209</td>\n",
       "      <td>-0.322102</td>\n",
       "      <td>-0.152001</td>\n",
       "      <td>-0.362928</td>\n",
       "      <td>-0.240821</td>\n",
       "      <td>1.196827</td>\n",
       "    </tr>\n",
       "  </tbody>\n",
       "</table>\n",
       "<p>5181 rows × 30 columns</p>\n",
       "</div>"
      ],
      "text/plain": [
       "            0         1         2         3         4         5         6   \\\n",
       "0    -0.236053 -0.727156  0.867975 -2.552651 -1.427145 -1.597298  1.019198   \n",
       "1    -0.570861 -0.727156  0.313789  0.886657 -0.009037 -0.852428 -0.981353   \n",
       "2    -0.682464 -0.727156 -1.032089  2.033093 -0.009037 -0.852428  1.019198   \n",
       "3    -0.347656 -0.121524 -2.061291 -0.259779 -0.718091  0.637311  1.019198   \n",
       "4    -0.012848  1.937625 -0.715412 -0.259779  0.700017  0.637311  1.019198   \n",
       "...        ...       ...       ...       ...       ...       ...       ...   \n",
       "5176  0.011243 -0.242650  0.630467 -2.552651  0.700017  0.637311  1.019198   \n",
       "5177 -0.905669 -0.242650  0.313789  0.886657 -0.718091 -1.597298  1.019198   \n",
       "5178 -1.240477  1.816499  0.234620 -0.259779  0.700017 -0.107559 -0.981353   \n",
       "5179  0.011243  0.241855  1.263821  0.886657 -0.009037  1.382180  1.019198   \n",
       "5180  0.011243 -0.242650  0.076281 -0.259779  0.013479 -0.007226  0.009701   \n",
       "\n",
       "            7         8         9   ...        20        21       22  \\\n",
       "0    -0.827881  1.479889 -0.172232  ... -0.716031 -0.415575 -0.21208   \n",
       "1     1.858659 -0.675858 -0.172232  ... -0.716031 -0.415575 -0.21208   \n",
       "2    -0.060298 -0.675858  1.473125  ...  1.396587 -0.415575 -0.21208   \n",
       "3    -0.827881 -0.675858  0.650447  ...  1.396587 -0.415575 -0.21208   \n",
       "4     1.858659 -0.675858  0.101995  ...  1.396587 -0.415575 -0.21208   \n",
       "...        ...       ...       ...  ...       ...       ...      ...   \n",
       "5176  2.242450 -0.675858  0.650447  ... -0.716031 -0.415575 -0.21208   \n",
       "5177  1.091076 -0.675858 -0.446458  ... -0.716031 -0.415575 -0.21208   \n",
       "5178 -0.827881 -0.675858  2.021578  ... -0.716031 -0.415575 -0.21208   \n",
       "5179 -0.827881 -0.675858  0.650447  ... -0.716031 -0.415575 -0.21208   \n",
       "5180 -0.444090  0.011994 -0.172232  ... -0.716031 -0.415575 -0.21208   \n",
       "\n",
       "            23        24        25        26        27        28        29  \n",
       "0     1.081060 -0.722209 -0.322102 -0.152001 -0.362928 -0.240821 -0.835543  \n",
       "1    -0.925018  1.384641 -0.322102 -0.152001 -0.362928 -0.240821  1.196827  \n",
       "2    -0.925018  1.384641 -0.322102 -0.152001 -0.362928 -0.240821  1.196827  \n",
       "3    -0.925018 -0.722209 -0.322102 -0.152001 -0.362928 -0.240821  1.196827  \n",
       "4    -0.925018 -0.722209 -0.322102 -0.152001 -0.362928 -0.240821  1.196827  \n",
       "...        ...       ...       ...       ...       ...       ...       ...  \n",
       "5176 -0.925018  1.384641 -0.322102 -0.152001 -0.362928 -0.240821 -0.835543  \n",
       "5177  1.081060 -0.722209 -0.322102 -0.152001 -0.362928 -0.240821 -0.835543  \n",
       "5178 -0.925018 -0.722209 -0.322102 -0.152001 -0.362928 -0.240821  1.196827  \n",
       "5179 -0.925018 -0.722209 -0.322102 -0.152001 -0.362928 -0.240821  1.196827  \n",
       "5180  1.081060 -0.722209 -0.322102 -0.152001 -0.362928 -0.240821  1.196827  \n",
       "\n",
       "[5181 rows x 30 columns]"
      ]
     },
     "execution_count": 64,
     "metadata": {},
     "output_type": "execute_result"
    }
   ],
   "source": [
    "pd.DataFrame(sc_x)"
   ]
  },
  {
   "cell_type": "markdown",
   "id": "47e21537",
   "metadata": {},
   "source": [
    "### 5. Imbalanced treatment required as test data is not balanced "
   ]
  },
  {
   "cell_type": "code",
   "execution_count": 65,
   "id": "644200d1",
   "metadata": {},
   "outputs": [],
   "source": [
    "# earlier dtype of y was object ehich was creating problem in imbalnce treatment\n",
    "y=y.astype(float)"
   ]
  },
  {
   "cell_type": "code",
   "execution_count": 66,
   "id": "0a320d12",
   "metadata": {},
   "outputs": [
    {
     "name": "stdout",
     "output_type": "stream",
     "text": [
      "Attrition\n",
      "0.0    3735\n",
      "1.0    1446\n",
      "Name: count, dtype: int64\n",
      "Attrition\n",
      "0.0    3735\n",
      "1.0    3735\n",
      "Name: count, dtype: int64\n"
     ]
    }
   ],
   "source": [
    "import imblearn\n",
    "from imblearn.over_sampling import SMOTE\n",
    "smote= SMOTE()\n",
    "x_smote, y_smote = smote.fit_resample(x,y)\n",
    "print(y.value_counts())\n",
    "print(y_smote.value_counts())"
   ]
  },
  {
   "cell_type": "code",
   "execution_count": 67,
   "id": "bcfa6384",
   "metadata": {},
   "outputs": [],
   "source": [
    "from sklearn.model_selection import train_test_split\n",
    "x_train,x_test,y_train,y_test = train_test_split(x,y,test_size=0.20,stratify=y,random_state=10)"
   ]
  },
  {
   "cell_type": "markdown",
   "id": "87ae4161",
   "metadata": {},
   "source": [
    "# Building model"
   ]
  },
  {
   "cell_type": "markdown",
   "id": "20c843c0",
   "metadata": {},
   "source": [
    "### 1. Ada boost"
   ]
  },
  {
   "cell_type": "code",
   "execution_count": 68,
   "id": "386f8c8a",
   "metadata": {},
   "outputs": [
    {
     "data": {
      "text/html": [
       "<style>#sk-container-id-1 {color: black;background-color: white;}#sk-container-id-1 pre{padding: 0;}#sk-container-id-1 div.sk-toggleable {background-color: white;}#sk-container-id-1 label.sk-toggleable__label {cursor: pointer;display: block;width: 100%;margin-bottom: 0;padding: 0.3em;box-sizing: border-box;text-align: center;}#sk-container-id-1 label.sk-toggleable__label-arrow:before {content: \"▸\";float: left;margin-right: 0.25em;color: #696969;}#sk-container-id-1 label.sk-toggleable__label-arrow:hover:before {color: black;}#sk-container-id-1 div.sk-estimator:hover label.sk-toggleable__label-arrow:before {color: black;}#sk-container-id-1 div.sk-toggleable__content {max-height: 0;max-width: 0;overflow: hidden;text-align: left;background-color: #f0f8ff;}#sk-container-id-1 div.sk-toggleable__content pre {margin: 0.2em;color: black;border-radius: 0.25em;background-color: #f0f8ff;}#sk-container-id-1 input.sk-toggleable__control:checked~div.sk-toggleable__content {max-height: 200px;max-width: 100%;overflow: auto;}#sk-container-id-1 input.sk-toggleable__control:checked~label.sk-toggleable__label-arrow:before {content: \"▾\";}#sk-container-id-1 div.sk-estimator input.sk-toggleable__control:checked~label.sk-toggleable__label {background-color: #d4ebff;}#sk-container-id-1 div.sk-label input.sk-toggleable__control:checked~label.sk-toggleable__label {background-color: #d4ebff;}#sk-container-id-1 input.sk-hidden--visually {border: 0;clip: rect(1px 1px 1px 1px);clip: rect(1px, 1px, 1px, 1px);height: 1px;margin: -1px;overflow: hidden;padding: 0;position: absolute;width: 1px;}#sk-container-id-1 div.sk-estimator {font-family: monospace;background-color: #f0f8ff;border: 1px dotted black;border-radius: 0.25em;box-sizing: border-box;margin-bottom: 0.5em;}#sk-container-id-1 div.sk-estimator:hover {background-color: #d4ebff;}#sk-container-id-1 div.sk-parallel-item::after {content: \"\";width: 100%;border-bottom: 1px solid gray;flex-grow: 1;}#sk-container-id-1 div.sk-label:hover label.sk-toggleable__label {background-color: #d4ebff;}#sk-container-id-1 div.sk-serial::before {content: \"\";position: absolute;border-left: 1px solid gray;box-sizing: border-box;top: 0;bottom: 0;left: 50%;z-index: 0;}#sk-container-id-1 div.sk-serial {display: flex;flex-direction: column;align-items: center;background-color: white;padding-right: 0.2em;padding-left: 0.2em;position: relative;}#sk-container-id-1 div.sk-item {position: relative;z-index: 1;}#sk-container-id-1 div.sk-parallel {display: flex;align-items: stretch;justify-content: center;background-color: white;position: relative;}#sk-container-id-1 div.sk-item::before, #sk-container-id-1 div.sk-parallel-item::before {content: \"\";position: absolute;border-left: 1px solid gray;box-sizing: border-box;top: 0;bottom: 0;left: 50%;z-index: -1;}#sk-container-id-1 div.sk-parallel-item {display: flex;flex-direction: column;z-index: 1;position: relative;background-color: white;}#sk-container-id-1 div.sk-parallel-item:first-child::after {align-self: flex-end;width: 50%;}#sk-container-id-1 div.sk-parallel-item:last-child::after {align-self: flex-start;width: 50%;}#sk-container-id-1 div.sk-parallel-item:only-child::after {width: 0;}#sk-container-id-1 div.sk-dashed-wrapped {border: 1px dashed gray;margin: 0 0.4em 0.5em 0.4em;box-sizing: border-box;padding-bottom: 0.4em;background-color: white;}#sk-container-id-1 div.sk-label label {font-family: monospace;font-weight: bold;display: inline-block;line-height: 1.2em;}#sk-container-id-1 div.sk-label-container {text-align: center;}#sk-container-id-1 div.sk-container {/* jupyter's `normalize.less` sets `[hidden] { display: none; }` but bootstrap.min.css set `[hidden] { display: none !important; }` so we also need the `!important` here to be able to override the default hidden behavior on the sphinx rendered scikit-learn.org. See: https://github.com/scikit-learn/scikit-learn/issues/21755 */display: inline-block !important;position: relative;}#sk-container-id-1 div.sk-text-repr-fallback {display: none;}</style><div id=\"sk-container-id-1\" class=\"sk-top-container\"><div class=\"sk-text-repr-fallback\"><pre>AdaBoostClassifier(random_state=1)</pre><b>In a Jupyter environment, please rerun this cell to show the HTML representation or trust the notebook. <br />On GitHub, the HTML representation is unable to render, please try loading this page with nbviewer.org.</b></div><div class=\"sk-container\" hidden><div class=\"sk-item\"><div class=\"sk-estimator sk-toggleable\"><input class=\"sk-toggleable__control sk-hidden--visually\" id=\"sk-estimator-id-1\" type=\"checkbox\" checked><label for=\"sk-estimator-id-1\" class=\"sk-toggleable__label sk-toggleable__label-arrow\">AdaBoostClassifier</label><div class=\"sk-toggleable__content\"><pre>AdaBoostClassifier(random_state=1)</pre></div></div></div></div></div>"
      ],
      "text/plain": [
       "AdaBoostClassifier(random_state=1)"
      ]
     },
     "execution_count": 68,
     "metadata": {},
     "output_type": "execute_result"
    }
   ],
   "source": [
    "from sklearn.ensemble import AdaBoostClassifier\n",
    "ada = AdaBoostClassifier(random_state=1)\n",
    "ada.fit(x_train,y_train)"
   ]
  },
  {
   "cell_type": "code",
   "execution_count": 69,
   "id": "4c3be303",
   "metadata": {},
   "outputs": [],
   "source": [
    "y_pred_train_ada = ada.predict(x_train)\n",
    "y_pred_test_ada = ada.predict(x_test)"
   ]
  },
  {
   "cell_type": "code",
   "execution_count": 70,
   "id": "2af8254d",
   "metadata": {},
   "outputs": [],
   "source": [
    "from sklearn.metrics import confusion_matrix, classification_report, accuracy_score"
   ]
  },
  {
   "cell_type": "code",
   "execution_count": 71,
   "id": "923fab96",
   "metadata": {},
   "outputs": [
    {
     "name": "stdout",
     "output_type": "stream",
     "text": [
      "              precision    recall  f1-score   support\n",
      "\n",
      "         0.0       0.85      0.92      0.89      2987\n",
      "         1.0       0.75      0.59      0.66      1157\n",
      "\n",
      "    accuracy                           0.83      4144\n",
      "   macro avg       0.80      0.76      0.77      4144\n",
      "weighted avg       0.83      0.83      0.82      4144\n",
      "\n",
      "\n",
      "              precision    recall  f1-score   support\n",
      "\n",
      "         0.0       0.85      0.93      0.89       748\n",
      "         1.0       0.75      0.56      0.64       289\n",
      "\n",
      "    accuracy                           0.83      1037\n",
      "   macro avg       0.80      0.75      0.76      1037\n",
      "weighted avg       0.82      0.83      0.82      1037\n",
      "\n"
     ]
    }
   ],
   "source": [
    "print(classification_report(y_train, y_pred_train_ada))\n",
    "print()\n",
    "print(classification_report(y_test, y_pred_test_ada))"
   ]
  },
  {
   "cell_type": "code",
   "execution_count": 72,
   "id": "56e9370f",
   "metadata": {},
   "outputs": [
    {
     "name": "stdout",
     "output_type": "stream",
     "text": [
      "0.8313223938223938\n",
      "\n",
      "0.8264223722275795\n"
     ]
    }
   ],
   "source": [
    "print(accuracy_score(y_train, y_pred_train_ada))\n",
    "print()\n",
    "print(accuracy_score(y_test, y_pred_test_ada))"
   ]
  },
  {
   "cell_type": "markdown",
   "id": "d795307c",
   "metadata": {},
   "source": [
    "### 2. Random Forest "
   ]
  },
  {
   "cell_type": "code",
   "execution_count": 73,
   "id": "ba45f1d6",
   "metadata": {},
   "outputs": [
    {
     "data": {
      "text/html": [
       "<style>#sk-container-id-2 {color: black;background-color: white;}#sk-container-id-2 pre{padding: 0;}#sk-container-id-2 div.sk-toggleable {background-color: white;}#sk-container-id-2 label.sk-toggleable__label {cursor: pointer;display: block;width: 100%;margin-bottom: 0;padding: 0.3em;box-sizing: border-box;text-align: center;}#sk-container-id-2 label.sk-toggleable__label-arrow:before {content: \"▸\";float: left;margin-right: 0.25em;color: #696969;}#sk-container-id-2 label.sk-toggleable__label-arrow:hover:before {color: black;}#sk-container-id-2 div.sk-estimator:hover label.sk-toggleable__label-arrow:before {color: black;}#sk-container-id-2 div.sk-toggleable__content {max-height: 0;max-width: 0;overflow: hidden;text-align: left;background-color: #f0f8ff;}#sk-container-id-2 div.sk-toggleable__content pre {margin: 0.2em;color: black;border-radius: 0.25em;background-color: #f0f8ff;}#sk-container-id-2 input.sk-toggleable__control:checked~div.sk-toggleable__content {max-height: 200px;max-width: 100%;overflow: auto;}#sk-container-id-2 input.sk-toggleable__control:checked~label.sk-toggleable__label-arrow:before {content: \"▾\";}#sk-container-id-2 div.sk-estimator input.sk-toggleable__control:checked~label.sk-toggleable__label {background-color: #d4ebff;}#sk-container-id-2 div.sk-label input.sk-toggleable__control:checked~label.sk-toggleable__label {background-color: #d4ebff;}#sk-container-id-2 input.sk-hidden--visually {border: 0;clip: rect(1px 1px 1px 1px);clip: rect(1px, 1px, 1px, 1px);height: 1px;margin: -1px;overflow: hidden;padding: 0;position: absolute;width: 1px;}#sk-container-id-2 div.sk-estimator {font-family: monospace;background-color: #f0f8ff;border: 1px dotted black;border-radius: 0.25em;box-sizing: border-box;margin-bottom: 0.5em;}#sk-container-id-2 div.sk-estimator:hover {background-color: #d4ebff;}#sk-container-id-2 div.sk-parallel-item::after {content: \"\";width: 100%;border-bottom: 1px solid gray;flex-grow: 1;}#sk-container-id-2 div.sk-label:hover label.sk-toggleable__label {background-color: #d4ebff;}#sk-container-id-2 div.sk-serial::before {content: \"\";position: absolute;border-left: 1px solid gray;box-sizing: border-box;top: 0;bottom: 0;left: 50%;z-index: 0;}#sk-container-id-2 div.sk-serial {display: flex;flex-direction: column;align-items: center;background-color: white;padding-right: 0.2em;padding-left: 0.2em;position: relative;}#sk-container-id-2 div.sk-item {position: relative;z-index: 1;}#sk-container-id-2 div.sk-parallel {display: flex;align-items: stretch;justify-content: center;background-color: white;position: relative;}#sk-container-id-2 div.sk-item::before, #sk-container-id-2 div.sk-parallel-item::before {content: \"\";position: absolute;border-left: 1px solid gray;box-sizing: border-box;top: 0;bottom: 0;left: 50%;z-index: -1;}#sk-container-id-2 div.sk-parallel-item {display: flex;flex-direction: column;z-index: 1;position: relative;background-color: white;}#sk-container-id-2 div.sk-parallel-item:first-child::after {align-self: flex-end;width: 50%;}#sk-container-id-2 div.sk-parallel-item:last-child::after {align-self: flex-start;width: 50%;}#sk-container-id-2 div.sk-parallel-item:only-child::after {width: 0;}#sk-container-id-2 div.sk-dashed-wrapped {border: 1px dashed gray;margin: 0 0.4em 0.5em 0.4em;box-sizing: border-box;padding-bottom: 0.4em;background-color: white;}#sk-container-id-2 div.sk-label label {font-family: monospace;font-weight: bold;display: inline-block;line-height: 1.2em;}#sk-container-id-2 div.sk-label-container {text-align: center;}#sk-container-id-2 div.sk-container {/* jupyter's `normalize.less` sets `[hidden] { display: none; }` but bootstrap.min.css set `[hidden] { display: none !important; }` so we also need the `!important` here to be able to override the default hidden behavior on the sphinx rendered scikit-learn.org. See: https://github.com/scikit-learn/scikit-learn/issues/21755 */display: inline-block !important;position: relative;}#sk-container-id-2 div.sk-text-repr-fallback {display: none;}</style><div id=\"sk-container-id-2\" class=\"sk-top-container\"><div class=\"sk-text-repr-fallback\"><pre>RandomForestClassifier(random_state=1)</pre><b>In a Jupyter environment, please rerun this cell to show the HTML representation or trust the notebook. <br />On GitHub, the HTML representation is unable to render, please try loading this page with nbviewer.org.</b></div><div class=\"sk-container\" hidden><div class=\"sk-item\"><div class=\"sk-estimator sk-toggleable\"><input class=\"sk-toggleable__control sk-hidden--visually\" id=\"sk-estimator-id-2\" type=\"checkbox\" checked><label for=\"sk-estimator-id-2\" class=\"sk-toggleable__label sk-toggleable__label-arrow\">RandomForestClassifier</label><div class=\"sk-toggleable__content\"><pre>RandomForestClassifier(random_state=1)</pre></div></div></div></div></div>"
      ],
      "text/plain": [
       "RandomForestClassifier(random_state=1)"
      ]
     },
     "execution_count": 73,
     "metadata": {},
     "output_type": "execute_result"
    }
   ],
   "source": [
    "from sklearn.ensemble import RandomForestClassifier\n",
    "rfm = RandomForestClassifier(random_state=1)\n",
    "rfm.fit(x_train, y_train)"
   ]
  },
  {
   "cell_type": "code",
   "execution_count": 74,
   "id": "5dc77934",
   "metadata": {},
   "outputs": [],
   "source": [
    "y_pred_train_rfm = rfm.predict(x_train)\n",
    "y_pred_test_rfm = rfm.predict(x_test)"
   ]
  },
  {
   "cell_type": "code",
   "execution_count": 75,
   "id": "1c92cbea",
   "metadata": {},
   "outputs": [
    {
     "name": "stdout",
     "output_type": "stream",
     "text": [
      "              precision    recall  f1-score   support\n",
      "\n",
      "         0.0       1.00      1.00      1.00      2987\n",
      "         1.0       1.00      1.00      1.00      1157\n",
      "\n",
      "    accuracy                           1.00      4144\n",
      "   macro avg       1.00      1.00      1.00      4144\n",
      "weighted avg       1.00      1.00      1.00      4144\n",
      "\n",
      "\n",
      "              precision    recall  f1-score   support\n",
      "\n",
      "         0.0       0.99      1.00      0.99       748\n",
      "         1.0       0.99      0.97      0.98       289\n",
      "\n",
      "    accuracy                           0.99      1037\n",
      "   macro avg       0.99      0.98      0.99      1037\n",
      "weighted avg       0.99      0.99      0.99      1037\n",
      "\n"
     ]
    }
   ],
   "source": [
    "print(classification_report(y_train, y_pred_train_rfm))\n",
    "print()\n",
    "print(classification_report(y_test, y_pred_test_rfm))"
   ]
  },
  {
   "cell_type": "code",
   "execution_count": 76,
   "id": "ec06a1a4",
   "metadata": {},
   "outputs": [
    {
     "name": "stdout",
     "output_type": "stream",
     "text": [
      "1.0\n",
      "\n",
      "0.9893924783027965\n"
     ]
    }
   ],
   "source": [
    "print(accuracy_score(y_train, y_pred_train_rfm))\n",
    "print()\n",
    "print(accuracy_score(y_test, y_pred_test_rfm))"
   ]
  },
  {
   "cell_type": "markdown",
   "id": "6c0a870c",
   "metadata": {},
   "source": [
    "### 3. Gradient boost"
   ]
  },
  {
   "cell_type": "code",
   "execution_count": 77,
   "id": "e524e892",
   "metadata": {},
   "outputs": [
    {
     "data": {
      "text/html": [
       "<style>#sk-container-id-3 {color: black;background-color: white;}#sk-container-id-3 pre{padding: 0;}#sk-container-id-3 div.sk-toggleable {background-color: white;}#sk-container-id-3 label.sk-toggleable__label {cursor: pointer;display: block;width: 100%;margin-bottom: 0;padding: 0.3em;box-sizing: border-box;text-align: center;}#sk-container-id-3 label.sk-toggleable__label-arrow:before {content: \"▸\";float: left;margin-right: 0.25em;color: #696969;}#sk-container-id-3 label.sk-toggleable__label-arrow:hover:before {color: black;}#sk-container-id-3 div.sk-estimator:hover label.sk-toggleable__label-arrow:before {color: black;}#sk-container-id-3 div.sk-toggleable__content {max-height: 0;max-width: 0;overflow: hidden;text-align: left;background-color: #f0f8ff;}#sk-container-id-3 div.sk-toggleable__content pre {margin: 0.2em;color: black;border-radius: 0.25em;background-color: #f0f8ff;}#sk-container-id-3 input.sk-toggleable__control:checked~div.sk-toggleable__content {max-height: 200px;max-width: 100%;overflow: auto;}#sk-container-id-3 input.sk-toggleable__control:checked~label.sk-toggleable__label-arrow:before {content: \"▾\";}#sk-container-id-3 div.sk-estimator input.sk-toggleable__control:checked~label.sk-toggleable__label {background-color: #d4ebff;}#sk-container-id-3 div.sk-label input.sk-toggleable__control:checked~label.sk-toggleable__label {background-color: #d4ebff;}#sk-container-id-3 input.sk-hidden--visually {border: 0;clip: rect(1px 1px 1px 1px);clip: rect(1px, 1px, 1px, 1px);height: 1px;margin: -1px;overflow: hidden;padding: 0;position: absolute;width: 1px;}#sk-container-id-3 div.sk-estimator {font-family: monospace;background-color: #f0f8ff;border: 1px dotted black;border-radius: 0.25em;box-sizing: border-box;margin-bottom: 0.5em;}#sk-container-id-3 div.sk-estimator:hover {background-color: #d4ebff;}#sk-container-id-3 div.sk-parallel-item::after {content: \"\";width: 100%;border-bottom: 1px solid gray;flex-grow: 1;}#sk-container-id-3 div.sk-label:hover label.sk-toggleable__label {background-color: #d4ebff;}#sk-container-id-3 div.sk-serial::before {content: \"\";position: absolute;border-left: 1px solid gray;box-sizing: border-box;top: 0;bottom: 0;left: 50%;z-index: 0;}#sk-container-id-3 div.sk-serial {display: flex;flex-direction: column;align-items: center;background-color: white;padding-right: 0.2em;padding-left: 0.2em;position: relative;}#sk-container-id-3 div.sk-item {position: relative;z-index: 1;}#sk-container-id-3 div.sk-parallel {display: flex;align-items: stretch;justify-content: center;background-color: white;position: relative;}#sk-container-id-3 div.sk-item::before, #sk-container-id-3 div.sk-parallel-item::before {content: \"\";position: absolute;border-left: 1px solid gray;box-sizing: border-box;top: 0;bottom: 0;left: 50%;z-index: -1;}#sk-container-id-3 div.sk-parallel-item {display: flex;flex-direction: column;z-index: 1;position: relative;background-color: white;}#sk-container-id-3 div.sk-parallel-item:first-child::after {align-self: flex-end;width: 50%;}#sk-container-id-3 div.sk-parallel-item:last-child::after {align-self: flex-start;width: 50%;}#sk-container-id-3 div.sk-parallel-item:only-child::after {width: 0;}#sk-container-id-3 div.sk-dashed-wrapped {border: 1px dashed gray;margin: 0 0.4em 0.5em 0.4em;box-sizing: border-box;padding-bottom: 0.4em;background-color: white;}#sk-container-id-3 div.sk-label label {font-family: monospace;font-weight: bold;display: inline-block;line-height: 1.2em;}#sk-container-id-3 div.sk-label-container {text-align: center;}#sk-container-id-3 div.sk-container {/* jupyter's `normalize.less` sets `[hidden] { display: none; }` but bootstrap.min.css set `[hidden] { display: none !important; }` so we also need the `!important` here to be able to override the default hidden behavior on the sphinx rendered scikit-learn.org. See: https://github.com/scikit-learn/scikit-learn/issues/21755 */display: inline-block !important;position: relative;}#sk-container-id-3 div.sk-text-repr-fallback {display: none;}</style><div id=\"sk-container-id-3\" class=\"sk-top-container\"><div class=\"sk-text-repr-fallback\"><pre>GradientBoostingClassifier(random_state=1)</pre><b>In a Jupyter environment, please rerun this cell to show the HTML representation or trust the notebook. <br />On GitHub, the HTML representation is unable to render, please try loading this page with nbviewer.org.</b></div><div class=\"sk-container\" hidden><div class=\"sk-item\"><div class=\"sk-estimator sk-toggleable\"><input class=\"sk-toggleable__control sk-hidden--visually\" id=\"sk-estimator-id-3\" type=\"checkbox\" checked><label for=\"sk-estimator-id-3\" class=\"sk-toggleable__label sk-toggleable__label-arrow\">GradientBoostingClassifier</label><div class=\"sk-toggleable__content\"><pre>GradientBoostingClassifier(random_state=1)</pre></div></div></div></div></div>"
      ],
      "text/plain": [
       "GradientBoostingClassifier(random_state=1)"
      ]
     },
     "execution_count": 77,
     "metadata": {},
     "output_type": "execute_result"
    }
   ],
   "source": [
    "from sklearn.ensemble import GradientBoostingClassifier\n",
    "gdm = GradientBoostingClassifier(random_state=1)\n",
    "gdm.fit(x_train, y_train)"
   ]
  },
  {
   "cell_type": "code",
   "execution_count": 78,
   "id": "a0f8da8f",
   "metadata": {},
   "outputs": [],
   "source": [
    "y_pred_train_gdm = gdm.predict(x_train)\n",
    "y_pred_test_gdm = gdm.predict(x_test)"
   ]
  },
  {
   "cell_type": "code",
   "execution_count": 79,
   "id": "8b19b8df",
   "metadata": {},
   "outputs": [
    {
     "name": "stdout",
     "output_type": "stream",
     "text": [
      "0.9027509652509652\n",
      "\n",
      "0.8871745419479267\n"
     ]
    }
   ],
   "source": [
    "print(accuracy_score(y_train, y_pred_train_gdm))\n",
    "print()\n",
    "print(accuracy_score(y_test, y_pred_test_gdm))"
   ]
  },
  {
   "cell_type": "code",
   "execution_count": 80,
   "id": "7cf9cb25",
   "metadata": {},
   "outputs": [
    {
     "name": "stdout",
     "output_type": "stream",
     "text": [
      "              precision    recall  f1-score   support\n",
      "\n",
      "         0.0       0.90      0.98      0.94      2987\n",
      "         1.0       0.93      0.71      0.80      1157\n",
      "\n",
      "    accuracy                           0.90      4144\n",
      "   macro avg       0.91      0.84      0.87      4144\n",
      "weighted avg       0.90      0.90      0.90      4144\n",
      "\n",
      "\n",
      "              precision    recall  f1-score   support\n",
      "\n",
      "         0.0       0.88      0.97      0.93       748\n",
      "         1.0       0.90      0.67      0.77       289\n",
      "\n",
      "    accuracy                           0.89      1037\n",
      "   macro avg       0.89      0.82      0.85      1037\n",
      "weighted avg       0.89      0.89      0.88      1037\n",
      "\n"
     ]
    }
   ],
   "source": [
    "print(classification_report(y_train, y_pred_train_gdm))\n",
    "print()\n",
    "print(classification_report(y_test, y_pred_test_gdm))"
   ]
  },
  {
   "cell_type": "markdown",
   "id": "c8dde7eb",
   "metadata": {},
   "source": [
    "### 4. Bagging classifier"
   ]
  },
  {
   "cell_type": "code",
   "execution_count": 82,
   "id": "5da570a8",
   "metadata": {},
   "outputs": [
    {
     "data": {
      "text/html": [
       "<style>#sk-container-id-4 {color: black;background-color: white;}#sk-container-id-4 pre{padding: 0;}#sk-container-id-4 div.sk-toggleable {background-color: white;}#sk-container-id-4 label.sk-toggleable__label {cursor: pointer;display: block;width: 100%;margin-bottom: 0;padding: 0.3em;box-sizing: border-box;text-align: center;}#sk-container-id-4 label.sk-toggleable__label-arrow:before {content: \"▸\";float: left;margin-right: 0.25em;color: #696969;}#sk-container-id-4 label.sk-toggleable__label-arrow:hover:before {color: black;}#sk-container-id-4 div.sk-estimator:hover label.sk-toggleable__label-arrow:before {color: black;}#sk-container-id-4 div.sk-toggleable__content {max-height: 0;max-width: 0;overflow: hidden;text-align: left;background-color: #f0f8ff;}#sk-container-id-4 div.sk-toggleable__content pre {margin: 0.2em;color: black;border-radius: 0.25em;background-color: #f0f8ff;}#sk-container-id-4 input.sk-toggleable__control:checked~div.sk-toggleable__content {max-height: 200px;max-width: 100%;overflow: auto;}#sk-container-id-4 input.sk-toggleable__control:checked~label.sk-toggleable__label-arrow:before {content: \"▾\";}#sk-container-id-4 div.sk-estimator input.sk-toggleable__control:checked~label.sk-toggleable__label {background-color: #d4ebff;}#sk-container-id-4 div.sk-label input.sk-toggleable__control:checked~label.sk-toggleable__label {background-color: #d4ebff;}#sk-container-id-4 input.sk-hidden--visually {border: 0;clip: rect(1px 1px 1px 1px);clip: rect(1px, 1px, 1px, 1px);height: 1px;margin: -1px;overflow: hidden;padding: 0;position: absolute;width: 1px;}#sk-container-id-4 div.sk-estimator {font-family: monospace;background-color: #f0f8ff;border: 1px dotted black;border-radius: 0.25em;box-sizing: border-box;margin-bottom: 0.5em;}#sk-container-id-4 div.sk-estimator:hover {background-color: #d4ebff;}#sk-container-id-4 div.sk-parallel-item::after {content: \"\";width: 100%;border-bottom: 1px solid gray;flex-grow: 1;}#sk-container-id-4 div.sk-label:hover label.sk-toggleable__label {background-color: #d4ebff;}#sk-container-id-4 div.sk-serial::before {content: \"\";position: absolute;border-left: 1px solid gray;box-sizing: border-box;top: 0;bottom: 0;left: 50%;z-index: 0;}#sk-container-id-4 div.sk-serial {display: flex;flex-direction: column;align-items: center;background-color: white;padding-right: 0.2em;padding-left: 0.2em;position: relative;}#sk-container-id-4 div.sk-item {position: relative;z-index: 1;}#sk-container-id-4 div.sk-parallel {display: flex;align-items: stretch;justify-content: center;background-color: white;position: relative;}#sk-container-id-4 div.sk-item::before, #sk-container-id-4 div.sk-parallel-item::before {content: \"\";position: absolute;border-left: 1px solid gray;box-sizing: border-box;top: 0;bottom: 0;left: 50%;z-index: -1;}#sk-container-id-4 div.sk-parallel-item {display: flex;flex-direction: column;z-index: 1;position: relative;background-color: white;}#sk-container-id-4 div.sk-parallel-item:first-child::after {align-self: flex-end;width: 50%;}#sk-container-id-4 div.sk-parallel-item:last-child::after {align-self: flex-start;width: 50%;}#sk-container-id-4 div.sk-parallel-item:only-child::after {width: 0;}#sk-container-id-4 div.sk-dashed-wrapped {border: 1px dashed gray;margin: 0 0.4em 0.5em 0.4em;box-sizing: border-box;padding-bottom: 0.4em;background-color: white;}#sk-container-id-4 div.sk-label label {font-family: monospace;font-weight: bold;display: inline-block;line-height: 1.2em;}#sk-container-id-4 div.sk-label-container {text-align: center;}#sk-container-id-4 div.sk-container {/* jupyter's `normalize.less` sets `[hidden] { display: none; }` but bootstrap.min.css set `[hidden] { display: none !important; }` so we also need the `!important` here to be able to override the default hidden behavior on the sphinx rendered scikit-learn.org. See: https://github.com/scikit-learn/scikit-learn/issues/21755 */display: inline-block !important;position: relative;}#sk-container-id-4 div.sk-text-repr-fallback {display: none;}</style><div id=\"sk-container-id-4\" class=\"sk-top-container\"><div class=\"sk-text-repr-fallback\"><pre>BaggingClassifier(max_features=20, n_estimators=25, random_state=1)</pre><b>In a Jupyter environment, please rerun this cell to show the HTML representation or trust the notebook. <br />On GitHub, the HTML representation is unable to render, please try loading this page with nbviewer.org.</b></div><div class=\"sk-container\" hidden><div class=\"sk-item\"><div class=\"sk-estimator sk-toggleable\"><input class=\"sk-toggleable__control sk-hidden--visually\" id=\"sk-estimator-id-4\" type=\"checkbox\" checked><label for=\"sk-estimator-id-4\" class=\"sk-toggleable__label sk-toggleable__label-arrow\">BaggingClassifier</label><div class=\"sk-toggleable__content\"><pre>BaggingClassifier(max_features=20, n_estimators=25, random_state=1)</pre></div></div></div></div></div>"
      ],
      "text/plain": [
       "BaggingClassifier(max_features=20, n_estimators=25, random_state=1)"
      ]
     },
     "execution_count": 82,
     "metadata": {},
     "output_type": "execute_result"
    }
   ],
   "source": [
    "from sklearn.ensemble import BaggingClassifier\n",
    "bagging = BaggingClassifier(random_state=1,max_features=20,n_estimators= 25)\n",
    "bagging.fit(x_train, y_train)"
   ]
  },
  {
   "cell_type": "code",
   "execution_count": 83,
   "id": "97583a74",
   "metadata": {},
   "outputs": [],
   "source": [
    "y_pred_train_bagging = bagging.predict(x_train)\n",
    "y_pred_test_bagging = bagging.predict(x_test)"
   ]
  },
  {
   "cell_type": "code",
   "execution_count": 84,
   "id": "88d6f1d4",
   "metadata": {},
   "outputs": [
    {
     "name": "stdout",
     "output_type": "stream",
     "text": [
      "              precision    recall  f1-score   support\n",
      "\n",
      "         0.0       1.00      1.00      1.00      2987\n",
      "         1.0       1.00      1.00      1.00      1157\n",
      "\n",
      "    accuracy                           1.00      4144\n",
      "   macro avg       1.00      1.00      1.00      4144\n",
      "weighted avg       1.00      1.00      1.00      4144\n",
      "\n",
      "\n",
      "              precision    recall  f1-score   support\n",
      "\n",
      "         0.0       0.99      0.99      0.99       748\n",
      "         1.0       0.98      0.98      0.98       289\n",
      "\n",
      "    accuracy                           0.99      1037\n",
      "   macro avg       0.99      0.98      0.99      1037\n",
      "weighted avg       0.99      0.99      0.99      1037\n",
      "\n"
     ]
    }
   ],
   "source": [
    "print(classification_report(y_train, y_pred_train_bagging))\n",
    "print()\n",
    "print(classification_report(y_test, y_pred_test_bagging))"
   ]
  },
  {
   "cell_type": "code",
   "execution_count": 85,
   "id": "27941d16",
   "metadata": {},
   "outputs": [
    {
     "name": "stdout",
     "output_type": "stream",
     "text": [
      "1.0\n",
      "\n",
      "0.9884281581485053\n"
     ]
    }
   ],
   "source": [
    "print(accuracy_score(y_train, y_pred_train_bagging))\n",
    "print()\n",
    "print(accuracy_score(y_test, y_pred_test_bagging))"
   ]
  },
  {
   "cell_type": "markdown",
   "id": "b0d13b98",
   "metadata": {},
   "source": [
    "# Cross Validation ------> with K-Fold method"
   ]
  },
  {
   "cell_type": "code",
   "execution_count": 86,
   "id": "24d160ff",
   "metadata": {},
   "outputs": [
    {
     "name": "stdout",
     "output_type": "stream",
     "text": [
      "[0.97831325 0.97349398 0.98072289 0.98072289 0.97101449 0.97342995\n",
      " 0.97826087 0.97342995 0.99033816 0.97342995]\n",
      "\n",
      "0.9773156393690705\n",
      "\n",
      "0.9903381642512077\n",
      "\n",
      "0.9710144927536232\n"
     ]
    }
   ],
   "source": [
    "from sklearn.model_selection import cross_val_score\n",
    "accuracy=cross_val_score(bagging,x_train,y_train,cv=10)\n",
    "print(accuracy)\n",
    "print()\n",
    "print(accuracy.mean())\n",
    "print()\n",
    "print(accuracy.max())\n",
    "print()\n",
    "print(accuracy.min())"
   ]
  },
  {
   "cell_type": "markdown",
   "id": "7cb3d31d",
   "metadata": {},
   "source": [
    "# Model Selection and hyperparamter tunning"
   ]
  },
  {
   "cell_type": "code",
   "execution_count": 87,
   "id": "0c05b8a7",
   "metadata": {},
   "outputs": [],
   "source": [
    "# we will go with bagging classifier model"
   ]
  },
  {
   "cell_type": "code",
   "execution_count": 88,
   "id": "b1f73176",
   "metadata": {},
   "outputs": [],
   "source": [
    "# Grid Search CV ----> For hyperparameter tunning"
   ]
  },
  {
   "cell_type": "code",
   "execution_count": 89,
   "id": "0a0fb1c5",
   "metadata": {},
   "outputs": [],
   "source": [
    "from sklearn.model_selection import GridSearchCV"
   ]
  },
  {
   "cell_type": "code",
   "execution_count": 90,
   "id": "1046946b",
   "metadata": {},
   "outputs": [],
   "source": [
    "params = {'max_features':[10,15,20,25], 'n_estimators':[10,15,20,25]}\n",
    "model = BaggingClassifier()"
   ]
  },
  {
   "cell_type": "code",
   "execution_count": 91,
   "id": "7d94f600",
   "metadata": {},
   "outputs": [
    {
     "name": "stdout",
     "output_type": "stream",
     "text": [
      "0.9874638379942141\n",
      "Best Tuned HyperParameter k : {'max_features': 15, 'n_estimators': 25}\n"
     ]
    }
   ],
   "source": [
    "grid = GridSearchCV(model,params,refit=True)\n",
    "grid.fit(x_train, y_train)\n",
    "grid_predict = grid.predict(x_test)\n",
    "print(accuracy_score(y_test, grid_predict))\n",
    "print(\"Best Tuned HyperParameter k : {}\".format(grid.best_params_))"
   ]
  },
  {
   "cell_type": "markdown",
   "id": "a7022fdb",
   "metadata": {},
   "source": [
    "# Final evaluation"
   ]
  },
  {
   "cell_type": "code",
   "execution_count": 92,
   "id": "8e0f3e50",
   "metadata": {},
   "outputs": [
    {
     "data": {
      "text/plain": [
       "array([1., 0., 0., ..., 0., 1., 0.])"
      ]
     },
     "execution_count": 92,
     "metadata": {},
     "output_type": "execute_result"
    }
   ],
   "source": [
    "final_output = bagging.predict(test)\n",
    "final_output"
   ]
  },
  {
   "cell_type": "code",
   "execution_count": 93,
   "id": "436cd16a",
   "metadata": {},
   "outputs": [
    {
     "name": "stdout",
     "output_type": "stream",
     "text": [
      "2630\n",
      "2630\n"
     ]
    }
   ],
   "source": [
    "print(len(final_output))\n",
    "print(len(test))"
   ]
  },
  {
   "cell_type": "code",
   "execution_count": 94,
   "id": "5a56572c",
   "metadata": {},
   "outputs": [],
   "source": [
    "final_output=pd.DataFrame(final_output)"
   ]
  },
  {
   "cell_type": "code",
   "execution_count": 98,
   "id": "9f4d2387",
   "metadata": {},
   "outputs": [],
   "source": [
    "org_test=pd.read_csv('Test_Dataset.csv')"
   ]
  },
  {
   "cell_type": "code",
   "execution_count": 100,
   "id": "38491bfd",
   "metadata": {},
   "outputs": [],
   "source": [
    "org_test=org_test.iloc[:,0:1]"
   ]
  },
  {
   "cell_type": "code",
   "execution_count": 101,
   "id": "28150c6b",
   "metadata": {},
   "outputs": [
    {
     "data": {
      "text/html": [
       "<div>\n",
       "<style scoped>\n",
       "    .dataframe tbody tr th:only-of-type {\n",
       "        vertical-align: middle;\n",
       "    }\n",
       "\n",
       "    .dataframe tbody tr th {\n",
       "        vertical-align: top;\n",
       "    }\n",
       "\n",
       "    .dataframe thead th {\n",
       "        text-align: right;\n",
       "    }\n",
       "</style>\n",
       "<table border=\"1\" class=\"dataframe\">\n",
       "  <thead>\n",
       "    <tr style=\"text-align: right;\">\n",
       "      <th></th>\n",
       "      <th>EmployeeID</th>\n",
       "    </tr>\n",
       "  </thead>\n",
       "  <tbody>\n",
       "    <tr>\n",
       "      <th>0</th>\n",
       "      <td>6110001</td>\n",
       "    </tr>\n",
       "    <tr>\n",
       "      <th>1</th>\n",
       "      <td>6110002</td>\n",
       "    </tr>\n",
       "    <tr>\n",
       "      <th>2</th>\n",
       "      <td>6110003</td>\n",
       "    </tr>\n",
       "    <tr>\n",
       "      <th>3</th>\n",
       "      <td>6110004</td>\n",
       "    </tr>\n",
       "    <tr>\n",
       "      <th>4</th>\n",
       "      <td>6110005</td>\n",
       "    </tr>\n",
       "  </tbody>\n",
       "</table>\n",
       "</div>"
      ],
      "text/plain": [
       "   EmployeeID\n",
       "0     6110001\n",
       "1     6110002\n",
       "2     6110003\n",
       "3     6110004\n",
       "4     6110005"
      ]
     },
     "execution_count": 101,
     "metadata": {},
     "output_type": "execute_result"
    }
   ],
   "source": [
    "org_test.head()"
   ]
  },
  {
   "cell_type": "code",
   "execution_count": 102,
   "id": "4db6e5de",
   "metadata": {},
   "outputs": [
    {
     "data": {
      "text/plain": [
       "(2630, 1)"
      ]
     },
     "execution_count": 102,
     "metadata": {},
     "output_type": "execute_result"
    }
   ],
   "source": [
    "org_test.shape"
   ]
  },
  {
   "cell_type": "code",
   "execution_count": 103,
   "id": "ec261201",
   "metadata": {},
   "outputs": [
    {
     "data": {
      "text/plain": [
       "(2630, 1)"
      ]
     },
     "execution_count": 103,
     "metadata": {},
     "output_type": "execute_result"
    }
   ],
   "source": [
    "final_output.shape"
   ]
  },
  {
   "cell_type": "code",
   "execution_count": 105,
   "id": "a1951b1d",
   "metadata": {},
   "outputs": [],
   "source": [
    "final_submit_output=pd.concat((org_test,final_output),axis=1)"
   ]
  },
  {
   "cell_type": "code",
   "execution_count": 123,
   "id": "d91c47e7",
   "metadata": {},
   "outputs": [
    {
     "data": {
      "text/html": [
       "<div>\n",
       "<style scoped>\n",
       "    .dataframe tbody tr th:only-of-type {\n",
       "        vertical-align: middle;\n",
       "    }\n",
       "\n",
       "    .dataframe tbody tr th {\n",
       "        vertical-align: top;\n",
       "    }\n",
       "\n",
       "    .dataframe thead th {\n",
       "        text-align: right;\n",
       "    }\n",
       "</style>\n",
       "<table border=\"1\" class=\"dataframe\">\n",
       "  <thead>\n",
       "    <tr style=\"text-align: right;\">\n",
       "      <th></th>\n",
       "      <th>EmployeeID</th>\n",
       "      <th>0</th>\n",
       "    </tr>\n",
       "  </thead>\n",
       "  <tbody>\n",
       "    <tr>\n",
       "      <th>0</th>\n",
       "      <td>Attrition</td>\n",
       "      <td>1.0</td>\n",
       "    </tr>\n",
       "    <tr>\n",
       "      <th>1</th>\n",
       "      <td>Attrition</td>\n",
       "      <td>0.0</td>\n",
       "    </tr>\n",
       "    <tr>\n",
       "      <th>2</th>\n",
       "      <td>Attrition</td>\n",
       "      <td>0.0</td>\n",
       "    </tr>\n",
       "    <tr>\n",
       "      <th>3</th>\n",
       "      <td>Attrition</td>\n",
       "      <td>0.0</td>\n",
       "    </tr>\n",
       "    <tr>\n",
       "      <th>4</th>\n",
       "      <td>Attrition</td>\n",
       "      <td>0.0</td>\n",
       "    </tr>\n",
       "  </tbody>\n",
       "</table>\n",
       "</div>"
      ],
      "text/plain": [
       "  EmployeeID    0\n",
       "0  Attrition  1.0\n",
       "1  Attrition  0.0\n",
       "2  Attrition  0.0\n",
       "3  Attrition  0.0\n",
       "4  Attrition  0.0"
      ]
     },
     "execution_count": 123,
     "metadata": {},
     "output_type": "execute_result"
    }
   ],
   "source": [
    "final_submit_output.head()"
   ]
  },
  {
   "cell_type": "code",
   "execution_count": 124,
   "id": "7ae592a8",
   "metadata": {},
   "outputs": [],
   "source": [
    "final_submit_output.to_csv(\"Final_output_for_Attrition.csv\")"
   ]
  },
  {
   "cell_type": "code",
   "execution_count": null,
   "id": "c9fa3019",
   "metadata": {},
   "outputs": [],
   "source": []
  }
 ],
 "metadata": {
  "kernelspec": {
   "display_name": "Python 3 (ipykernel)",
   "language": "python",
   "name": "python3"
  },
  "language_info": {
   "codemirror_mode": {
    "name": "ipython",
    "version": 3
   },
   "file_extension": ".py",
   "mimetype": "text/x-python",
   "name": "python",
   "nbconvert_exporter": "python",
   "pygments_lexer": "ipython3",
   "version": "3.11.5"
  }
 },
 "nbformat": 4,
 "nbformat_minor": 5
}
